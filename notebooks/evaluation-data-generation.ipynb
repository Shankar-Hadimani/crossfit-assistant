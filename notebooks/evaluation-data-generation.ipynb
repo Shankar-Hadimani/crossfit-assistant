{
 "cells": [
  {
   "cell_type": "code",
   "execution_count": 1,
   "id": "0e0db060-7d39-4219-9201-a4bc15c52cfd",
   "metadata": {},
   "outputs": [],
   "source": [
    "import pandas as pd\n",
    "import numpy as np"
   ]
  },
  {
   "cell_type": "code",
   "execution_count": 2,
   "id": "c1eac369-a589-45c9-a1e4-80fad3dc1c59",
   "metadata": {},
   "outputs": [
    {
     "name": "stdin",
     "output_type": "stream",
     "text": [
      " ········\n"
     ]
    }
   ],
   "source": [
    "import os\n",
    "import openai\n",
    "from getpass import getpass\n",
    "\n",
    "\n",
    "os.environ['OPENAI_API_KEY'] = getpass()\n",
    "openai.api_key = os.environ[\"OPENAI_API_KEY\"] "
   ]
  },
  {
   "cell_type": "markdown",
   "id": "5f4ef736-0e0c-4c49-ab11-72ab0009b4c1",
   "metadata": {},
   "source": [
    "## Ingestion"
   ]
  },
  {
   "cell_type": "code",
   "execution_count": 5,
   "id": "c8a047ec-24b1-435f-8902-72d2fda26c12",
   "metadata": {},
   "outputs": [],
   "source": [
    "df = pd.read_csv('../data/crossfit_exercise_plan_01.csv')"
   ]
  },
  {
   "cell_type": "code",
   "execution_count": 4,
   "id": "a9871d82-939e-4508-95fe-7d45be3db4f2",
   "metadata": {},
   "outputs": [
    {
     "data": {
      "text/plain": [
       "Index(['Unnamed: 0', 'id', 'exercise_name', 'session_name', 'type_of_activity',\n",
       "       'type_of_equipment', 'body_part', 'type', 'muscle_groups_activated',\n",
       "       'instructions'],\n",
       "      dtype='object')"
      ]
     },
     "execution_count": 4,
     "metadata": {},
     "output_type": "execute_result"
    }
   ],
   "source": [
    "df.columns"
   ]
  },
  {
   "cell_type": "code",
   "execution_count": 6,
   "id": "6b28ad86-d362-4e73-96da-e73b832fb17b",
   "metadata": {},
   "outputs": [],
   "source": [
    "documents = df.to_dict(orient=\"records\")"
   ]
  },
  {
   "cell_type": "code",
   "execution_count": 7,
   "id": "cb7e3cc2-d594-4ef9-8826-3d540ce4aea9",
   "metadata": {},
   "outputs": [
    {
     "data": {
      "text/plain": [
       "{'Unnamed: 0': 0,\n",
       " 'id': 0,\n",
       " 'exercise_name': 'Cossack Squat',\n",
       " 'session_name': 'Aerobic Body Building',\n",
       " 'type_of_activity': 'Warm-up',\n",
       " 'type_of_equipment': 'Dumbbells',\n",
       " 'body_part': 'Full body',\n",
       " 'type': 'Pull',\n",
       " 'muscle_groups_activated': 'Upper Chest, Shoulders',\n",
       " 'instructions': 'Warm-up adequately before performing this exercise to prevent injury.'}"
      ]
     },
     "execution_count": 7,
     "metadata": {},
     "output_type": "execute_result"
    }
   ],
   "source": [
    "documents[0]"
   ]
  },
  {
   "cell_type": "code",
   "execution_count": 207,
   "id": "2e0edd12-8996-4ae3-8a5e-e37247cd3894",
   "metadata": {},
   "outputs": [],
   "source": [
    "import minsearch\n",
    "\n",
    "index = minsearch.Index(\n",
    "    text_fields=['exercise_name', 'session_name', 'type_of_activity',\n",
    "       'type_of_equipment', 'body_part', 'type', 'muscle_groups_activated',\n",
    "       'instructions'],\n",
    "    keyword_fields=[]\n",
    ")"
   ]
  },
  {
   "cell_type": "code",
   "execution_count": 208,
   "id": "a1c1308d-aa86-4978-a27b-e26902955a01",
   "metadata": {},
   "outputs": [
    {
     "data": {
      "text/plain": [
       "<minsearch.Index at 0x7f189eae9d90>"
      ]
     },
     "execution_count": 208,
     "metadata": {},
     "output_type": "execute_result"
    }
   ],
   "source": [
    "index.fit(docs=documents)"
   ]
  },
  {
   "cell_type": "markdown",
   "id": "8089d960-84db-4378-88c8-c61b9a9363c4",
   "metadata": {},
   "source": [
    "### RAG Flow"
   ]
  },
  {
   "cell_type": "code",
   "execution_count": 8,
   "id": "c16e15ac-d63e-49fe-819f-921d5d7efd94",
   "metadata": {},
   "outputs": [],
   "source": [
    "prompt_template = \"\"\"\n",
    "You emulate a user of our fitness assistant application.\n",
    "Formulate 5 questions this user might ask based on a provided exercise.\n",
    "Make the questions specific to this exercise.\n",
    "The record should contain the answer to the questions, and the questions should\n",
    "be complete and not too short. Use as fewer words as possible from the record. \n",
    "\n",
    "The record:\n",
    "\n",
    "exercise_name: {exercise_name}\n",
    "session_name: {session_name}\n",
    "type_of_activity: {type_of_activity}\n",
    "type_of_equipment: {type_of_equipment}\n",
    "body_part: {body_part}\n",
    "type: {type}\n",
    "muscle_groups_activated:{muscle_groups_activated}\n",
    "instructions: {instructions}\n",
    "\n",
    "Provide the output in parsable JSON without using code blocks:\n",
    "\n",
    "{{\"questions\": [\"question1\", \"question2\", ..., \"question5\"]}}\n",
    "\"\"\".strip()"
   ]
  },
  {
   "cell_type": "code",
   "execution_count": 10,
   "id": "7af64b71-e1ea-48a1-a79f-980a77711f92",
   "metadata": {},
   "outputs": [
    {
     "name": "stdout",
     "output_type": "stream",
     "text": [
      "You emulate a user of our fitness assistant application.\n",
      "Formulate 5 questions this user might ask based on a provided exercise.\n",
      "Make the questions specific to this exercise.\n",
      "The record should contain the answer to the questions, and the questions should\n",
      "be complete and not too short. Use as fewer words as possible from the record. \n",
      "\n",
      "The record:\n",
      "\n",
      "exercise_name: Cossack Squat\n",
      "session_name: Aerobic Body Building\n",
      "type_of_activity: Warm-up\n",
      "type_of_equipment: Dumbbells\n",
      "body_part: Full body\n",
      "type: Pull\n",
      "muscle_groups_activated:Upper Chest, Shoulders\n",
      "instructions: Warm-up adequately before performing this exercise to prevent injury.\n",
      "\n",
      "Provide the output in parsable JSON without using code blocks:\n",
      "\n",
      "{\"questions\": [\"question1\", \"question2\", ..., \"question5\"]}\n"
     ]
    }
   ],
   "source": [
    "print(prompt_template.format(**documents[0]))"
   ]
  },
  {
   "cell_type": "code",
   "execution_count": 17,
   "id": "e39ed6d0-3ff0-472d-b64b-70faeb3a8c44",
   "metadata": {},
   "outputs": [],
   "source": [
    "from openai import OpenAI\n",
    "import json\n",
    "\n",
    "client = OpenAI()"
   ]
  },
  {
   "cell_type": "code",
   "execution_count": 18,
   "id": "9ead4008-bbb8-4f60-a98f-053d4b4f4e74",
   "metadata": {},
   "outputs": [],
   "source": [
    "def llm(prompt):\n",
    "    response = client.chat.completions.create(\n",
    "        model='gpt-4o-mini',\n",
    "        messages=[{\"role\": \"user\", \"content\": prompt}]\n",
    "    )\n",
    "    \n",
    "    return response.choices[0].message.content"
   ]
  },
  {
   "cell_type": "code",
   "execution_count": 21,
   "id": "686111b2-64f3-4d61-8588-62651533a306",
   "metadata": {},
   "outputs": [],
   "source": [
    "prompt = prompt_template.format(**documents[1])\n",
    "generate_questions = llm(prompt)"
   ]
  },
  {
   "cell_type": "code",
   "execution_count": 23,
   "id": "0c343caf-9ca1-4983-b97f-ba9824954f76",
   "metadata": {},
   "outputs": [
    {
     "name": "stdout",
     "output_type": "stream",
     "text": [
      "{\"questions\": [\"What is the main purpose of performing Glute-Ham Raises in my fitness routine?\", \"Which muscle groups are targeted by Glute-Ham Raises during the exercise?\", \"What equipment do I need to perform Glute-Ham Raises correctly?\", \"Can you explain the correct breathing technique for Glute-Ham Raises?\", \"Is there a specific session type where Glute-Ham Raises are most effective?\"]}\n"
     ]
    }
   ],
   "source": [
    "print(generate_questions)"
   ]
  },
  {
   "cell_type": "code",
   "execution_count": 24,
   "id": "2a83788e-043f-466e-bd1c-e8b152aa76cb",
   "metadata": {},
   "outputs": [
    {
     "data": {
      "text/plain": [
       "{'questions': ['What is the main purpose of performing Glute-Ham Raises in my fitness routine?',\n",
       "  'Which muscle groups are targeted by Glute-Ham Raises during the exercise?',\n",
       "  'What equipment do I need to perform Glute-Ham Raises correctly?',\n",
       "  'Can you explain the correct breathing technique for Glute-Ham Raises?',\n",
       "  'Is there a specific session type where Glute-Ham Raises are most effective?']}"
      ]
     },
     "execution_count": 24,
     "metadata": {},
     "output_type": "execute_result"
    }
   ],
   "source": [
    "json.loads(generate_questions)"
   ]
  },
  {
   "cell_type": "code",
   "execution_count": 25,
   "id": "17774f0c-613d-4004-a139-19796db45dd0",
   "metadata": {},
   "outputs": [],
   "source": [
    "def generate_questions(doc):\n",
    "    prompt = prompt_template.format(**doc)\n",
    "\n",
    "    response = client.chat.completions.create(\n",
    "        model='gpt-4o-mini',\n",
    "        messages=[{\"role\": \"user\", \"content\": prompt}]\n",
    "    )\n",
    "\n",
    "    json_response = response.choices[0].message.content\n",
    "    return json_response"
   ]
  },
  {
   "cell_type": "code",
   "execution_count": 26,
   "id": "fa65c401-cd0c-41ee-a4d4-567a21a0458d",
   "metadata": {},
   "outputs": [],
   "source": [
    "from tqdm.auto import tqdm"
   ]
  },
  {
   "cell_type": "code",
   "execution_count": 27,
   "id": "e7ec43f4-01d5-4ce2-bba6-ca8e34fbbd26",
   "metadata": {},
   "outputs": [],
   "source": [
    "results = {}"
   ]
  },
  {
   "cell_type": "code",
   "execution_count": null,
   "id": "c2655eb9-f53f-446d-b71c-42f702c593ae",
   "metadata": {},
   "outputs": [
    {
     "data": {
      "application/vnd.jupyter.widget-view+json": {
       "model_id": "076b396465d54426998db12babcf89de",
       "version_major": 2,
       "version_minor": 0
      },
      "text/plain": [
       "  0%|          | 0/720 [00:00<?, ?it/s]"
      ]
     },
     "metadata": {},
     "output_type": "display_data"
    }
   ],
   "source": [
    "for doc in tqdm(documents): \n",
    "    doc_id = doc['id']\n",
    "    if doc_id in results:\n",
    "        continue\n",
    "\n",
    "    questions_raw = generate_questions(doc)\n",
    "    questions = json.loads(questions_raw)\n",
    "    results[doc_id] = questions['questions']"
   ]
  },
  {
   "cell_type": "code",
   "execution_count": 30,
   "id": "d57deeba-69ad-49d3-bd20-ce226cb330f0",
   "metadata": {},
   "outputs": [],
   "source": [
    "final_results = []\n",
    "\n",
    "for doc_id, questions in results.items():\n",
    "    for q in questions:\n",
    "        final_results.append((doc_id,q))"
   ]
  },
  {
   "cell_type": "code",
   "execution_count": 31,
   "id": "94851504-2f68-4530-a938-d7e607897950",
   "metadata": {},
   "outputs": [
    {
     "data": {
      "text/plain": [
       "(0,\n",
       " 'What is the primary focus of the Cossack Squat exercise during the Aerobic Body Building session?')"
      ]
     },
     "execution_count": 31,
     "metadata": {},
     "output_type": "execute_result"
    }
   ],
   "source": [
    "final_results[0]"
   ]
  },
  {
   "cell_type": "code",
   "execution_count": 32,
   "id": "9eaa76f5-7c38-4d20-94a0-454f95e71d12",
   "metadata": {},
   "outputs": [],
   "source": [
    "df_results = pd.DataFrame(final_results, columns = ['id','question'])"
   ]
  },
  {
   "cell_type": "code",
   "execution_count": 34,
   "id": "7cbdf4c6-0684-4924-bdca-a8e69e26323f",
   "metadata": {},
   "outputs": [],
   "source": [
    "df_results.to_csv('../data/ground-truth-retrieval.csv', index=False)"
   ]
  },
  {
   "cell_type": "code",
   "execution_count": 35,
   "id": "03ea0f36-9c43-4b43-af62-d97e3039c0e3",
   "metadata": {},
   "outputs": [
    {
     "name": "stdout",
     "output_type": "stream",
     "text": [
      "id,question\n",
      "0,What is the primary focus of the Cossack Squat exercise during the Aerobic Body Building session?\n",
      "0,What type of equipment is needed for performing the Cossack Squat?\n",
      "0,What are the main muscle groups activated by the Cossack Squat?\n",
      "0,Is the Cossack Squat considered a warm-up exercise or a main workout?\n",
      "0,What should I do before starting the Cossack Squat to avoid injury?\n",
      "1,What is the primary body part targeted during Glute-Ham Raises?\n",
      "1,Can Glute-Ham Raises be incorporated into a cardio session?\n",
      "1,Which muscle groups are activated when performing this exercise?\n",
      "1,What type of equipment is used for Glute-Ham Raises?\n"
     ]
    }
   ],
   "source": [
    "!head ../data/ground-truth-retrieval.csv"
   ]
  },
  {
   "cell_type": "code",
   "execution_count": null,
   "id": "179ec9d6-8a59-40c1-8a62-ac70fe20727e",
   "metadata": {},
   "outputs": [],
   "source": []
  },
  {
   "cell_type": "code",
   "execution_count": null,
   "id": "98ef8ff9-e0f0-4b82-a644-e859cd5a0144",
   "metadata": {},
   "outputs": [],
   "source": []
  },
  {
   "cell_type": "code",
   "execution_count": 214,
   "id": "9efeba65-74c6-497a-bbca-5caa211726ef",
   "metadata": {},
   "outputs": [],
   "source": [
    "def search(query):\n",
    "    boost = {}\n",
    "\n",
    "    results = index.search(\n",
    "        query=query,\n",
    "        filter_dict={},\n",
    "        boost_dict=boost,\n",
    "        num_results=10\n",
    "    )\n",
    "\n",
    "    return results"
   ]
  },
  {
   "cell_type": "code",
   "execution_count": 218,
   "id": "050410db-f243-4088-900f-f104c33e8be7",
   "metadata": {},
   "outputs": [],
   "source": [
    "prompt_template = \"\"\"\n",
    "You're a fitness instructor. Answer the QUESTION based on the CONTEXT from the excercise database.\n",
    "Use only the facts from the CONTEXT when answering the QUESTION.\n",
    "\n",
    "QUESTION: {question}\n",
    "\n",
    "CONTEXT: \n",
    "{context}\n",
    "\"\"\".strip()\n",
    "\n",
    "entry_template = \"\"\"\n",
    "exercise_name: {exercise_name}\n",
    "session_name: {session_name}\n",
    "type_of_activity: {type_of_activity}\n",
    "type_of_equipment: {type_of_equipment}\n",
    "body_part: {body_part}\n",
    "type: {type}\n",
    "muscle_groups_activated:{muscle_groups_activated}\n",
    "instructions: {instructions}\n",
    "\"\"\".strip()"
   ]
  },
  {
   "cell_type": "code",
   "execution_count": 219,
   "id": "9af2710d-0a14-4f0b-9a1b-386067508933",
   "metadata": {},
   "outputs": [],
   "source": [
    "def build_prompt(query, search_results):\n",
    "    context = \"\"\n",
    "    \n",
    "    for doc in search_results:\n",
    "        context = context + entry_template.format(**doc) + \"\\n\\n\"\n",
    "    \n",
    "    prompt = prompt_template.format(question=query, context=context).strip()\n",
    "    return prompt"
   ]
  },
  {
   "cell_type": "code",
   "execution_count": 220,
   "id": "eba32b6a-d869-493c-8f23-9775595f5e3a",
   "metadata": {},
   "outputs": [],
   "source": [
    "search_results = search(query)\n",
    "prompt = build_prompt(query, search_results)"
   ]
  },
  {
   "cell_type": "code",
   "execution_count": 221,
   "id": "922cdb10-2c46-4ef5-950a-070927ed9b01",
   "metadata": {},
   "outputs": [
    {
     "name": "stdout",
     "output_type": "stream",
     "text": [
      "You're a fitness instructor. Answer the QUESTION based on the CONTEXT from the excercise database.\n",
      "Use only the facts from the CONTEXT when answering the QUESTION.\n",
      "\n",
      "QUESTION: give me leg excercises for hamstrings\n",
      "\n",
      "CONTEXT: \n",
      "exercise_name: Single-leg Deadlifts\n",
      "session_name: Crossfit\n",
      "type_of_activity: Strength\n",
      "type_of_equipment: Dumbbells\n",
      "body_part: Lower body\n",
      "type: Pull\n",
      "muscle_groups_activated:Hamstrings, Glutes\n",
      "instructions: Balance on one leg and lower the weights to the ground, returning to standing.\n",
      "\n",
      "exercise_name: Single-leg Kettlebell Swing\n",
      "session_name: Crossfit\n",
      "type_of_activity: Strength\n",
      "type_of_equipment: Kettlebell\n",
      "body_part: Lower body\n",
      "type: Pull\n",
      "muscle_groups_activated:Glutes, Hamstrings, Core\n",
      "instructions: Swing the kettlebell while standing on one leg, focusing on balance and control.\n",
      "\n",
      "exercise_name: Single-leg Deadlift\n",
      "session_name: Crossfit\n",
      "type_of_activity: Mobility\n",
      "type_of_equipment: Dumbbells\n",
      "body_part: Lower body\n",
      "type: Pull\n",
      "muscle_groups_activated:Hamstrings, Glutes, Lower Back\n",
      "instructions: Hold a dumbbell in one hand, hinge at the hips, and lower the weight while balancing on one leg.\n",
      "\n",
      "exercise_name: Leg Raises\n",
      "session_name: Crossfit\n",
      "type_of_activity: Cardio\n",
      "type_of_equipment: Kettlebell\n",
      "body_part: Upper body\n",
      "type: Push\n",
      "muscle_groups_activated:Quads, Glutes, Hamstrings\n",
      "instructions: Hold a med ball at your chest, squat deeply, then use your legs and arms to throw the ball to a target overhead.\n",
      "\n",
      "exercise_name: Lying Leg Raise\n",
      "session_name: Crossfit\n",
      "type_of_activity: Cardio\n",
      "type_of_equipment: Resistance Band\n",
      "body_part: Lower body\n",
      "type: Push\n",
      "muscle_groups_activated:Glutes, Hamstrings\n",
      "instructions: Warm-up adequately before performing this exercise to prevent injury.\n",
      "\n",
      "exercise_name: Single-leg Box Squats\n",
      "session_name: Crossfit\n",
      "type_of_activity: Strength\n",
      "type_of_equipment: Box\n",
      "body_part: Lower body\n",
      "type: Push\n",
      "muscle_groups_activated:Quads, Glutes, Core\n",
      "instructions: Sit back onto a box with one leg extended, then stand back up.\n",
      "\n",
      "exercise_name: Snatch\n",
      "session_name: Crossfit\n",
      "type_of_activity: Cardio\n",
      "type_of_equipment: Dumbbells\n",
      "body_part: Full body\n",
      "type: Push\n",
      "muscle_groups_activated:Hamstrings, Glutes\n",
      "instructions: Maintain a strong core throughout the exercise for better stability.\n",
      "\n",
      "exercise_name: Sled Pull\n",
      "session_name: Gymnastics\n",
      "type_of_activity: Warm-up\n",
      "type_of_equipment: Medicine Ball\n",
      "body_part: Full body\n",
      "type: Stretch\n",
      "muscle_groups_activated:Hamstrings, Glutes\n",
      "instructions: Maintain a strong core throughout the exercise for better stability.\n",
      "\n",
      "exercise_name: Alternating Dumbbell Snatch\n",
      "session_name: Gymnastics\n",
      "type_of_activity: Strength\n",
      "type_of_equipment: Resistance Band\n",
      "body_part: Upper body\n",
      "type: Push\n",
      "muscle_groups_activated:Hamstrings, Glutes\n",
      "instructions: Maintain a strong core throughout the exercise for better stability.\n",
      "\n",
      "exercise_name: Overhead Press\n",
      "session_name: Gymnastics\n",
      "type_of_activity: Cardio\n",
      "type_of_equipment: Medicine Ball\n",
      "body_part: Core\n",
      "type: Pull\n",
      "muscle_groups_activated:Hamstrings, Glutes\n",
      "instructions: Maintain a strong core throughout the exercise for better stability.\n"
     ]
    }
   ],
   "source": [
    "print(prompt)"
   ]
  },
  {
   "cell_type": "code",
   "execution_count": 222,
   "id": "d5b582d5-a291-4026-a52a-d245212e9ec3",
   "metadata": {},
   "outputs": [],
   "source": [
    "def llm(prompt):\n",
    "    response = client.chat.completions.create(\n",
    "        model='gpt-4o-mini',\n",
    "        messages=[{\"role\": \"user\", \"content\": prompt}]\n",
    "    )\n",
    "    \n",
    "    return response.choices[0].message.content"
   ]
  },
  {
   "cell_type": "code",
   "execution_count": 223,
   "id": "600ae273-64f1-404a-a50c-0ffea5315dcc",
   "metadata": {},
   "outputs": [],
   "source": [
    "def rag(query):\n",
    "    search_results = search(query)\n",
    "    prompt = build_prompt(query, search_results)\n",
    "    answer = llm(prompt)\n",
    "    return answer"
   ]
  },
  {
   "cell_type": "code",
   "execution_count": 224,
   "id": "00d42eff-fb2e-4ffd-a3a5-8398ff7cf768",
   "metadata": {},
   "outputs": [],
   "source": [
    "answer = rag(query)"
   ]
  },
  {
   "cell_type": "code",
   "execution_count": 99,
   "id": "4eb7c656-9a6b-4506-8736-1b26b3cbad75",
   "metadata": {},
   "outputs": [
    {
     "name": "stdout",
     "output_type": "stream",
     "text": [
      "Here are some leg exercises that activate the hamstrings:\n",
      "\n",
      "1. **Front Rack Lunge**\n",
      "   - Crossfit Session: Crossfit\n",
      "   - Type of Activity: Warm-up\n",
      "   - Muscle Groups Activated: Glutes, Hamstrings\n",
      "   - Instructions: Stretch before and after this exercise for better mobility and recovery.\n",
      "\n",
      "2. **Plank to Push-up**\n",
      "   - Crossfit Session: Olympic Weightlifting\n",
      "   - Type of Activity: Warm-up\n",
      "   - Muscle Groups Activated: Hamstrings, Glutes\n",
      "   - Instructions: Stretch before and after this exercise for better mobility and recovery.\n",
      "\n",
      "3. **Weighted Vest Burpees**\n",
      "   - Crossfit Session: Olympic Weightlifting\n",
      "   - Type of Activity: Warm-up\n",
      "   - Muscle Groups Activated: Hamstrings, Glutes\n",
      "   - Instructions: Stretch before and after this exercise for better mobility and recovery.\n",
      "\n",
      "4. **Kettlebell Clean**\n",
      "   - Crossfit Session: Gymnastics\n",
      "   - Type of Activity: Cardio\n",
      "   - Muscle Groups Activated: Glutes, Hamstrings\n",
      "   - Instructions: Stretch before and after this exercise for better mobility and recovery.\n",
      "\n",
      "5. **Handstand Hold**\n",
      "   - Crossfit Session: Aerobic Body Building\n",
      "   - Type of Activity: Strength\n",
      "   - Muscle Groups Activated: Hamstrings, Glutes\n",
      "   - Instructions: Make sure to use explosive power when needed, especially for dynamic exercises.\n",
      "\n",
      "These exercises can help strengthen your hamstrings effectively.\n"
     ]
    }
   ],
   "source": [
    "print(answer)"
   ]
  },
  {
   "cell_type": "code",
   "execution_count": 225,
   "id": "3e46cdfa-c119-4d5d-bc55-76d65bf87c52",
   "metadata": {},
   "outputs": [],
   "source": [
    "answer = rag(\"Need some more excercises for my back\")"
   ]
  },
  {
   "cell_type": "code",
   "execution_count": 226,
   "id": "afa5800f-acb2-45e1-bd86-6c2143b5ba1a",
   "metadata": {},
   "outputs": [
    {
     "name": "stdout",
     "output_type": "stream",
     "text": [
      "Here are some exercises that focus on strengthening your back:\n",
      "\n",
      "1. **Single-arm Row**\n",
      "   - **Session Name:** Crossfit\n",
      "   - **Type of Activity:** Strength\n",
      "   - **Type of Equipment:** Dumbbell\n",
      "   - **Muscle Groups Activated:** Back\n",
      "   - **Instructions:** Row a dumbbell towards your abdomen with one arm while supporting your body with the other.\n",
      "\n",
      "2. **Resistance Band Pull-aparts**\n",
      "   - **Session Name:** Crossfit\n",
      "   - **Type of Activity:** Strength\n",
      "   - **Type of Equipment:** Resistance Band\n",
      "   - **Muscle Groups Activated:** Back, Shoulders\n",
      "   - **Instructions:** Hold a band in front and pull it apart to activate your back muscles.\n",
      "\n",
      "3. **Push-Up Rows**\n",
      "   - **Session Name:** Crossfit\n",
      "   - **Type of Activity:** Strength\n",
      "   - **Type of Equipment:** Bodyweight\n",
      "   - **Muscle Groups Activated:** Lower Back, Core\n",
      "   - **Instructions:** Keep your back straight and hinge at the hips for proper form.\n",
      "\n",
      "4. **Tire Drag**\n",
      "   - **Session Name:** Olympic Weightlifting\n",
      "   - **Type of Activity:** Cardio\n",
      "   - **Type of Equipment:** Resistance Band\n",
      "   - **Muscle Groups Activated:** Lower Back, Core\n",
      "   - **Instructions:** Keep your back straight and hinge at the hips for proper form.\n",
      "\n",
      "These exercises will help target and strengthen the muscles in your back.\n"
     ]
    }
   ],
   "source": [
    "print(answer)"
   ]
  },
  {
   "cell_type": "markdown",
   "id": "23ae6d0b-a659-4bd0-80e4-c264eab4d204",
   "metadata": {},
   "source": [
    "##  Evaluation"
   ]
  },
  {
   "cell_type": "code",
   "execution_count": null,
   "id": "6666bf4d-88ab-4449-b28d-0b2abaa336a6",
   "metadata": {},
   "outputs": [],
   "source": []
  }
 ],
 "metadata": {
  "kernelspec": {
   "display_name": "Python 3 (ipykernel)",
   "language": "python",
   "name": "python3"
  },
  "language_info": {
   "codemirror_mode": {
    "name": "ipython",
    "version": 3
   },
   "file_extension": ".py",
   "mimetype": "text/x-python",
   "name": "python",
   "nbconvert_exporter": "python",
   "pygments_lexer": "ipython3",
   "version": "3.11.0"
  }
 },
 "nbformat": 4,
 "nbformat_minor": 5
}
