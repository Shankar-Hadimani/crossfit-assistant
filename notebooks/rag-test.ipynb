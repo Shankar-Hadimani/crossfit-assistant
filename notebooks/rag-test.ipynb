{
 "cells": [
  {
   "cell_type": "code",
   "execution_count": 1,
   "id": "0e0db060-7d39-4219-9201-a4bc15c52cfd",
   "metadata": {},
   "outputs": [],
   "source": [
    "import pandas as pd\n",
    "import numpy as np"
   ]
  },
  {
   "cell_type": "code",
   "execution_count": 2,
   "id": "c1eac369-a589-45c9-a1e4-80fad3dc1c59",
   "metadata": {},
   "outputs": [
    {
     "name": "stdin",
     "output_type": "stream",
     "text": [
      " ········\n"
     ]
    }
   ],
   "source": [
    "import os\n",
    "import openai\n",
    "from getpass import getpass\n",
    "\n",
    "\n",
    "os.environ['OPENAI_API_KEY'] = getpass()\n",
    "openai.api_key = os.environ[\"OPENAI_API_KEY\"] "
   ]
  },
  {
   "cell_type": "code",
   "execution_count": 3,
   "id": "5337b09f-b411-47ce-ad3f-307d9f25846a",
   "metadata": {
    "scrolled": true
   },
   "outputs": [],
   "source": [
    "file1 = pd.read_csv('../data/crossfit_exercise_plan_250_unique.csv',sep=\";\")\n",
    "file2 = pd.read_csv('../data/crossfit_exercise_plan_batch_1.csv',sep=\";\")\n",
    "file3 = pd.read_csv('../data/crossfit_exercise_plan_batch_2.csv',sep=\";\", header=None)\n",
    "file3.columns = file2.columns"
   ]
  },
  {
   "cell_type": "code",
   "execution_count": 4,
   "id": "e0485741-9e36-4ab4-b8c2-5b04e0a0798c",
   "metadata": {},
   "outputs": [],
   "source": [
    "# Combine the DataFrames\n",
    "combined_df = pd.concat([file1, file2, file3], ignore_index=True)\n",
    "# combined_df = pd.concat([file2, file3], ignore_index=True)"
   ]
  },
  {
   "cell_type": "code",
   "execution_count": null,
   "id": "44e17cc4-a628-4ff6-b3bf-45ab31cdf87d",
   "metadata": {},
   "outputs": [],
   "source": [
    "!wget https://raw.githubusercontent.com/alexeygrigorev/minsearch/main/minsearch.py"
   ]
  },
  {
   "cell_type": "code",
   "execution_count": 5,
   "id": "962092ea-f853-48d5-80e3-90e9602aa9fa",
   "metadata": {},
   "outputs": [
    {
     "data": {
      "text/plain": [
       "Index(['Exercise Name', 'Crossfit Session Name', 'Type of Activity',\n",
       "       'Type of Equipment', 'Body Part', 'Type', 'Muscle Groups Activated',\n",
       "       'Instructions'],\n",
       "      dtype='object')"
      ]
     },
     "execution_count": 5,
     "metadata": {},
     "output_type": "execute_result"
    }
   ],
   "source": [
    "combined_df.columns"
   ]
  },
  {
   "cell_type": "code",
   "execution_count": 6,
   "id": "be9d4efd-87f1-4c2a-87c6-52e14cbaa7f2",
   "metadata": {},
   "outputs": [],
   "source": [
    "combined_df = combined_df.drop_duplicates(subset=['Exercise Name', 'Crossfit Session Name'])"
   ]
  },
  {
   "cell_type": "code",
   "execution_count": 7,
   "id": "8696be12-f52d-4e5f-8fab-715a5c5f1e3f",
   "metadata": {},
   "outputs": [],
   "source": [
    "combined_df = combined_df.rename(columns={'Crossfit Session Name': 'Session Name'})"
   ]
  },
  {
   "cell_type": "code",
   "execution_count": 8,
   "id": "7540db9e-ce1c-4cec-b589-a60a0af989fc",
   "metadata": {},
   "outputs": [
    {
     "data": {
      "text/plain": [
       "Exercise Name              772\n",
       "Session Name               772\n",
       "Type of Activity           772\n",
       "Type of Equipment          721\n",
       "Body Part                  772\n",
       "Type                       772\n",
       "Muscle Groups Activated    772\n",
       "Instructions               771\n",
       "dtype: int64"
      ]
     },
     "execution_count": 8,
     "metadata": {},
     "output_type": "execute_result"
    }
   ],
   "source": [
    "combined_df.count()"
   ]
  },
  {
   "cell_type": "code",
   "execution_count": 9,
   "id": "ba087a55-1e99-4a8f-845c-7271192ca5b2",
   "metadata": {},
   "outputs": [],
   "source": [
    "combined_df.columns=combined_df.columns.str.lower().str.replace(' ','_')\n",
    "combined_df.reset_index(drop=True, inplace=True)\n",
    "\n",
    "# Replace empty strings with NaN for proper handling\n",
    "combined_df.replace('', np.nan, inplace=True)\n",
    "\n",
    "# Remove rows where any column is null\n",
    "combined_df = combined_df.dropna()\n",
    "\n",
    "combined_df.insert(0,'id',combined_df.index)\n",
    "\n",
    "# Resetting the index\n",
    "combined_df = combined_df.reset_index(drop=True)"
   ]
  },
  {
   "cell_type": "code",
   "execution_count": 10,
   "id": "d02be158-207b-4357-bcc5-e5c1f774c012",
   "metadata": {},
   "outputs": [
    {
     "data": {
      "text/plain": [
       "id                         0\n",
       "exercise_name              0\n",
       "session_name               0\n",
       "type_of_activity           0\n",
       "type_of_equipment          0\n",
       "body_part                  0\n",
       "type                       0\n",
       "muscle_groups_activated    0\n",
       "instructions               0\n",
       "dtype: int64"
      ]
     },
     "execution_count": 10,
     "metadata": {},
     "output_type": "execute_result"
    }
   ],
   "source": [
    "combined_df.isnull().sum()"
   ]
  },
  {
   "cell_type": "code",
   "execution_count": 10,
   "id": "40ea4dfc-2643-4f38-bcdc-7e948bb19bac",
   "metadata": {},
   "outputs": [
    {
     "data": {
      "text/plain": [
       "id                         327\n",
       "exercise_name              327\n",
       "session_name               327\n",
       "type_of_activity           327\n",
       "type_of_equipment          327\n",
       "body_part                  327\n",
       "type                       327\n",
       "muscle_groups_activated    327\n",
       "instructions               327\n",
       "dtype: int64"
      ]
     },
     "execution_count": 10,
     "metadata": {},
     "output_type": "execute_result"
    }
   ],
   "source": [
    "combined_df.count()"
   ]
  },
  {
   "cell_type": "code",
   "execution_count": 11,
   "id": "087767ec-c1d2-4eb4-9638-799e0279979e",
   "metadata": {},
   "outputs": [],
   "source": [
    "combined_df.to_csv('../data/crossfit_exercise_plan_01.csv')"
   ]
  },
  {
   "cell_type": "markdown",
   "id": "5f4ef736-0e0c-4c49-ab11-72ab0009b4c1",
   "metadata": {},
   "source": [
    "## Ingestion"
   ]
  },
  {
   "cell_type": "code",
   "execution_count": 4,
   "id": "c8a047ec-24b1-435f-8902-72d2fda26c12",
   "metadata": {},
   "outputs": [],
   "source": [
    "df = pd.read_csv('../data/crossfit_exercise_plan_01.csv')"
   ]
  },
  {
   "cell_type": "code",
   "execution_count": 5,
   "id": "a9871d82-939e-4508-95fe-7d45be3db4f2",
   "metadata": {},
   "outputs": [
    {
     "data": {
      "text/plain": [
       "Index(['Unnamed: 0', 'id', 'exercise_name', 'session_name', 'type_of_activity',\n",
       "       'type_of_equipment', 'body_part', 'type', 'muscle_groups_activated',\n",
       "       'instructions'],\n",
       "      dtype='object')"
      ]
     },
     "execution_count": 5,
     "metadata": {},
     "output_type": "execute_result"
    }
   ],
   "source": [
    "df.columns"
   ]
  },
  {
   "cell_type": "code",
   "execution_count": 6,
   "id": "6b28ad86-d362-4e73-96da-e73b832fb17b",
   "metadata": {},
   "outputs": [],
   "source": [
    "documents = df.to_dict(orient=\"records\")"
   ]
  },
  {
   "cell_type": "code",
   "execution_count": 7,
   "id": "cb7e3cc2-d594-4ef9-8826-3d540ce4aea9",
   "metadata": {},
   "outputs": [
    {
     "data": {
      "text/plain": [
       "{'Unnamed: 0': 0,\n",
       " 'id': 0,\n",
       " 'exercise_name': 'Cossack Squat',\n",
       " 'session_name': 'Aerobic Body Building',\n",
       " 'type_of_activity': 'Warm-up',\n",
       " 'type_of_equipment': 'Dumbbells',\n",
       " 'body_part': 'Full body',\n",
       " 'type': 'Pull',\n",
       " 'muscle_groups_activated': 'Upper Chest, Shoulders',\n",
       " 'instructions': 'Warm-up adequately before performing this exercise to prevent injury.'}"
      ]
     },
     "execution_count": 7,
     "metadata": {},
     "output_type": "execute_result"
    }
   ],
   "source": [
    "documents[0]"
   ]
  },
  {
   "cell_type": "code",
   "execution_count": 18,
   "id": "4d253087-82c0-40c6-a1b3-f671373b6ebd",
   "metadata": {},
   "outputs": [],
   "source": [
    "# Function to check for blank or np.nan values in a list of dictionaries\n",
    "def check_for_blank_nan(input_list):\n",
    "    if not isinstance(input_list, list):\n",
    "        raise ValueError(\"Input must be a list of dictionaries\")\n",
    "\n",
    "    problematic_entries = []\n",
    "\n",
    "    for entry in input_list:\n",
    "        if not isinstance(entry, dict):\n",
    "            raise ValueError(\"All items in the list must be dictionaries\")\n",
    "        \n",
    "        keys_with_issues = []\n",
    "        for key, value in entry.items():\n",
    "            if value == '' or value is None or (isinstance(value, float) and np.isnan(value)):\n",
    "                keys_with_issues.append(key)\n",
    "        \n",
    "        if keys_with_issues:\n",
    "            problematic_entries.append({\n",
    "                'id': entry.get('id'),\n",
    "                'keys_with_issues': keys_with_issues\n",
    "            })\n",
    "    \n",
    "    return problematic_entries"
   ]
  },
  {
   "cell_type": "code",
   "execution_count": 19,
   "id": "f8fd9b17-9699-41f4-bd46-8a554afddd5d",
   "metadata": {},
   "outputs": [
    {
     "name": "stdout",
     "output_type": "stream",
     "text": [
      "Keys with blank or np.nan values:\n",
      "[]\n"
     ]
    }
   ],
   "source": [
    "# Check the sample dictionary for blank or np.nan values\n",
    "problematic_keys = check_for_blank_nan(documents)\n",
    "\n",
    "# Display keys with issues\n",
    "print(\"Keys with blank or np.nan values:\")\n",
    "print(problematic_keys)"
   ]
  },
  {
   "cell_type": "code",
   "execution_count": 20,
   "id": "2e0edd12-8996-4ae3-8a5e-e37247cd3894",
   "metadata": {},
   "outputs": [],
   "source": [
    "import minsearch\n",
    "\n",
    "index = minsearch.Index(\n",
    "    text_fields=['exercise_name', 'session_name', 'type_of_activity',\n",
    "       'type_of_equipment', 'body_part', 'type', 'muscle_groups_activated',\n",
    "       'instructions'],\n",
    "    keyword_fields=[]\n",
    ")"
   ]
  },
  {
   "cell_type": "code",
   "execution_count": 21,
   "id": "a1c1308d-aa86-4978-a27b-e26902955a01",
   "metadata": {},
   "outputs": [
    {
     "data": {
      "text/plain": [
       "<minsearch.Index at 0x7f8fc24e4dd0>"
      ]
     },
     "execution_count": 21,
     "metadata": {},
     "output_type": "execute_result"
    }
   ],
   "source": [
    "index.fit(docs=documents)"
   ]
  },
  {
   "cell_type": "markdown",
   "id": "8089d960-84db-4378-88c8-c61b9a9363c4",
   "metadata": {},
   "source": [
    "### RAG Flow"
   ]
  },
  {
   "cell_type": "code",
   "execution_count": 22,
   "id": "d9b79e03-2447-4639-9e7a-4f5d3ffa1104",
   "metadata": {},
   "outputs": [],
   "source": [
    "query = \"give me leg excercises for hamstrings\""
   ]
  },
  {
   "cell_type": "code",
   "execution_count": 23,
   "id": "d69bd31b-cb7c-4a59-9e18-28d82779a8fa",
   "metadata": {},
   "outputs": [
    {
     "data": {
      "text/plain": [
       "[{'Unnamed: 0': 682,\n",
       "  'id': 716,\n",
       "  'exercise_name': 'Single-leg Deadlifts',\n",
       "  'session_name': 'Crossfit',\n",
       "  'type_of_activity': 'Strength',\n",
       "  'type_of_equipment': 'Dumbbells',\n",
       "  'body_part': 'Lower body',\n",
       "  'type': 'Pull',\n",
       "  'muscle_groups_activated': 'Hamstrings, Glutes',\n",
       "  'instructions': 'Balance on one leg and lower the weights to the ground, returning to standing.'},\n",
       " {'Unnamed: 0': 628,\n",
       "  'id': 641,\n",
       "  'exercise_name': 'Single-leg Kettlebell Swing',\n",
       "  'session_name': 'Crossfit',\n",
       "  'type_of_activity': 'Strength',\n",
       "  'type_of_equipment': 'Kettlebell',\n",
       "  'body_part': 'Lower body',\n",
       "  'type': 'Pull',\n",
       "  'muscle_groups_activated': 'Glutes, Hamstrings, Core',\n",
       "  'instructions': 'Swing the kettlebell while standing on one leg, focusing on balance and control.'},\n",
       " {'Unnamed: 0': 582,\n",
       "  'id': 594,\n",
       "  'exercise_name': 'Single-leg Deadlift',\n",
       "  'session_name': 'Crossfit',\n",
       "  'type_of_activity': 'Mobility',\n",
       "  'type_of_equipment': 'Dumbbells',\n",
       "  'body_part': 'Lower body',\n",
       "  'type': 'Pull',\n",
       "  'muscle_groups_activated': 'Hamstrings, Glutes, Lower Back',\n",
       "  'instructions': 'Hold a dumbbell in one hand, hinge at the hips, and lower the weight while balancing on one leg.'},\n",
       " {'Unnamed: 0': 445,\n",
       "  'id': 445,\n",
       "  'exercise_name': 'Leg Raises',\n",
       "  'session_name': 'Crossfit',\n",
       "  'type_of_activity': 'Cardio',\n",
       "  'type_of_equipment': 'Kettlebell',\n",
       "  'body_part': 'Upper body',\n",
       "  'type': 'Push',\n",
       "  'muscle_groups_activated': 'Quads, Glutes, Hamstrings',\n",
       "  'instructions': 'Hold a med ball at your chest, squat deeply, then use your legs and arms to throw the ball to a target overhead.'},\n",
       " {'Unnamed: 0': 197,\n",
       "  'id': 197,\n",
       "  'exercise_name': 'Lying Leg Raise',\n",
       "  'session_name': 'Crossfit',\n",
       "  'type_of_activity': 'Cardio',\n",
       "  'type_of_equipment': 'Resistance Band',\n",
       "  'body_part': 'Lower body',\n",
       "  'type': 'Push',\n",
       "  'muscle_groups_activated': 'Glutes, Hamstrings',\n",
       "  'instructions': 'Warm-up adequately before performing this exercise to prevent injury.'},\n",
       " {'Unnamed: 0': 643,\n",
       "  'id': 660,\n",
       "  'exercise_name': 'Single-leg Box Squats',\n",
       "  'session_name': 'Crossfit',\n",
       "  'type_of_activity': 'Strength',\n",
       "  'type_of_equipment': 'Box',\n",
       "  'body_part': 'Lower body',\n",
       "  'type': 'Push',\n",
       "  'muscle_groups_activated': 'Quads, Glutes, Core',\n",
       "  'instructions': 'Sit back onto a box with one leg extended, then stand back up.'},\n",
       " {'Unnamed: 0': 13,\n",
       "  'id': 13,\n",
       "  'exercise_name': 'Overhead Press',\n",
       "  'session_name': 'Gymnastics',\n",
       "  'type_of_activity': 'Cardio',\n",
       "  'type_of_equipment': 'Medicine Ball',\n",
       "  'body_part': 'Core',\n",
       "  'type': 'Pull',\n",
       "  'muscle_groups_activated': 'Hamstrings, Glutes',\n",
       "  'instructions': 'Maintain a strong core throughout the exercise for better stability.'},\n",
       " {'Unnamed: 0': 171,\n",
       "  'id': 171,\n",
       "  'exercise_name': 'Alternating Dumbbell Snatch',\n",
       "  'session_name': 'Gymnastics',\n",
       "  'type_of_activity': 'Strength',\n",
       "  'type_of_equipment': 'Resistance Band',\n",
       "  'body_part': 'Upper body',\n",
       "  'type': 'Push',\n",
       "  'muscle_groups_activated': 'Hamstrings, Glutes',\n",
       "  'instructions': 'Maintain a strong core throughout the exercise for better stability.'},\n",
       " {'Unnamed: 0': 64,\n",
       "  'id': 64,\n",
       "  'exercise_name': 'Sled Pull',\n",
       "  'session_name': 'Gymnastics',\n",
       "  'type_of_activity': 'Warm-up',\n",
       "  'type_of_equipment': 'Medicine Ball',\n",
       "  'body_part': 'Full body',\n",
       "  'type': 'Stretch',\n",
       "  'muscle_groups_activated': 'Hamstrings, Glutes',\n",
       "  'instructions': 'Maintain a strong core throughout the exercise for better stability.'},\n",
       " {'Unnamed: 0': 93,\n",
       "  'id': 93,\n",
       "  'exercise_name': 'Sandbag Squats',\n",
       "  'session_name': 'Olympic Weightlifting',\n",
       "  'type_of_activity': 'Warm-up',\n",
       "  'type_of_equipment': 'Pull-up Bar',\n",
       "  'body_part': 'Lower body',\n",
       "  'type': 'Pull',\n",
       "  'muscle_groups_activated': 'Glutes, Hamstrings',\n",
       "  'instructions': 'Maintain a strong core throughout the exercise for better stability.'}]"
      ]
     },
     "execution_count": 23,
     "metadata": {},
     "output_type": "execute_result"
    }
   ],
   "source": [
    "index.search(query, num_results=10)"
   ]
  },
  {
   "cell_type": "code",
   "execution_count": 24,
   "id": "b564c7e4-7810-4e1b-b8de-99de9d4dcc89",
   "metadata": {},
   "outputs": [
    {
     "data": {
      "text/plain": [
       "\"Strengthening your hamstrings is essential for overall leg strength and injury prevention. Here are some effective exercises that target the hamstrings:\\n\\n### 1. **Deadlifts**\\n   - **Conventional Deadlift:** Stand with your feet hip-width apart, grip the barbell just outside your knees, and lift using your legs and hips.\\n   - **Romanian Deadlift:** Hold a barbell or dumbbells, hinge at your hips while keeping your back straight, and lower the weight down to mid-shin level before returning to standing.\\n\\n### 2. **Leg Curls**\\n   - **Machine Leg Curl:** Use a leg curl machine to isolate your hamstrings. Adjust the machine and curl the weight towards your buttocks.\\n   - **Stability Ball Leg Curl:** Lie on your back with your heels on a stability ball. Lift your hips off the ground and pull the ball towards you by bending your knees.\\n\\n### 3. **Glute Bridges**\\n   - **Standard Glute Bridge:** Lie on your back, feet flat on the floor, hip-width apart. Lift your hips towards the ceiling while squeezing your glutes and engaging your hamstrings.\\n   - **Single-Leg Glute Bridge:** Same as the standard version, but lift one leg off the ground while performing the exercise.\\n\\n### 4. **Lunges**\\n   - **Walking Lunges:** Step forward into a lunge, ensuring your knee doesn’t go past your toes, then push off to the next step.\\n   - **Reverse Lunges:** Step backward into a lunge position which tends to put more emphasis on the hamstrings.\\n\\n### 5. **Good Mornings**\\n   - Stand with feet hip-width apart, place a barbell on your upper back, and hinge at your hips while keeping your back straight, lowering your torso until it's almost parallel to the ground.\\n\\n### 6. **Kettlebell Swings**\\n   - Use a kettlebell, hinge at your hips, and swing the kettlebell back between your legs, then explosively drive forward using your hips and hamstrings.\\n\\n### 7. **Nordic Hamstring Curls**\\n   - Kneel on the ground with your feet anchored (you can use a partner or a stable surface). Lean forward slowly while keeping your body straight until you can’t hold yourself up, then use your hands to push back up.\\n\\n### 8. **Box Step-Ups**\\n   - Step onto a sturdy box or platform while keeping your foot entirely on the step, then push through your heel to lift your body up. Alternate legs.\\n\\n### Training Tips:\\n- **Warm-Up:** Always warm up before your workout to prepare your muscles and reduce injury risk.\\n- **Repetitions:** Depending on your fitness level, aim for 8-15 repetitions for 2-4 sets.\\n- **Rest:** Allow adequate rest between sets and incorporate hamstring workouts into your overall leg training routine.\\n- **Stretching:** Don’t forget to stretch your hamstrings after your workout to improve flexibility and recovery.\\n\\nMake sure to execute these exercises with proper form to avoid injury. If you're new to strength training or have any existing injuries, consider consulting with a fitness professional or physical therapist for guidance tailored to your needs.\""
      ]
     },
     "execution_count": 24,
     "metadata": {},
     "output_type": "execute_result"
    }
   ],
   "source": [
    "from openai import OpenAI\n",
    "client = OpenAI()\n",
    "\n",
    "response = client.chat.completions.create(\n",
    "    model='gpt-4o-mini',\n",
    "    messages=[{\"role\": \"user\", \"content\": query}]\n",
    ")\n",
    "\n",
    "response.choices[0].message.content"
   ]
  },
  {
   "cell_type": "code",
   "execution_count": 25,
   "id": "9efeba65-74c6-497a-bbca-5caa211726ef",
   "metadata": {},
   "outputs": [],
   "source": [
    "def search(query):\n",
    "    boost = {}\n",
    "\n",
    "    results = index.search(\n",
    "        query=query,\n",
    "        filter_dict={},\n",
    "        boost_dict=boost,\n",
    "        num_results=10\n",
    "    )\n",
    "\n",
    "    return results"
   ]
  },
  {
   "cell_type": "code",
   "execution_count": 26,
   "id": "050410db-f243-4088-900f-f104c33e8be7",
   "metadata": {},
   "outputs": [],
   "source": [
    "prompt_template = \"\"\"\n",
    "You're a fitness instructor. Answer the QUESTION based on the CONTEXT from the excercise database.\n",
    "Use only the facts from the CONTEXT when answering the QUESTION.\n",
    "\n",
    "QUESTION: {question}\n",
    "\n",
    "CONTEXT: \n",
    "{context}\n",
    "\"\"\".strip()\n",
    "\n",
    "entry_template = \"\"\"\n",
    "exercise_name: {exercise_name}\n",
    "session_name: {session_name}\n",
    "type_of_activity: {type_of_activity}\n",
    "type_of_equipment: {type_of_equipment}\n",
    "body_part: {body_part}\n",
    "type: {type}\n",
    "muscle_groups_activated:{muscle_groups_activated}\n",
    "instructions: {instructions}\n",
    "\"\"\".strip()"
   ]
  },
  {
   "cell_type": "code",
   "execution_count": 27,
   "id": "9af2710d-0a14-4f0b-9a1b-386067508933",
   "metadata": {},
   "outputs": [],
   "source": [
    "def build_prompt(query, search_results):\n",
    "    context = \"\"\n",
    "    \n",
    "    for doc in search_results:\n",
    "        context = context + entry_template.format(**doc) + \"\\n\\n\"\n",
    "    \n",
    "    prompt = prompt_template.format(question=query, context=context).strip()\n",
    "    return prompt"
   ]
  },
  {
   "cell_type": "code",
   "execution_count": 28,
   "id": "eba32b6a-d869-493c-8f23-9775595f5e3a",
   "metadata": {},
   "outputs": [],
   "source": [
    "search_results = search(query)\n",
    "prompt = build_prompt(query, search_results)"
   ]
  },
  {
   "cell_type": "code",
   "execution_count": 29,
   "id": "922cdb10-2c46-4ef5-950a-070927ed9b01",
   "metadata": {},
   "outputs": [
    {
     "name": "stdout",
     "output_type": "stream",
     "text": [
      "You're a fitness instructor. Answer the QUESTION based on the CONTEXT from the excercise database.\n",
      "Use only the facts from the CONTEXT when answering the QUESTION.\n",
      "\n",
      "QUESTION: give me leg excercises for hamstrings\n",
      "\n",
      "CONTEXT: \n",
      "exercise_name: Single-leg Deadlifts\n",
      "session_name: Crossfit\n",
      "type_of_activity: Strength\n",
      "type_of_equipment: Dumbbells\n",
      "body_part: Lower body\n",
      "type: Pull\n",
      "muscle_groups_activated:Hamstrings, Glutes\n",
      "instructions: Balance on one leg and lower the weights to the ground, returning to standing.\n",
      "\n",
      "exercise_name: Single-leg Kettlebell Swing\n",
      "session_name: Crossfit\n",
      "type_of_activity: Strength\n",
      "type_of_equipment: Kettlebell\n",
      "body_part: Lower body\n",
      "type: Pull\n",
      "muscle_groups_activated:Glutes, Hamstrings, Core\n",
      "instructions: Swing the kettlebell while standing on one leg, focusing on balance and control.\n",
      "\n",
      "exercise_name: Single-leg Deadlift\n",
      "session_name: Crossfit\n",
      "type_of_activity: Mobility\n",
      "type_of_equipment: Dumbbells\n",
      "body_part: Lower body\n",
      "type: Pull\n",
      "muscle_groups_activated:Hamstrings, Glutes, Lower Back\n",
      "instructions: Hold a dumbbell in one hand, hinge at the hips, and lower the weight while balancing on one leg.\n",
      "\n",
      "exercise_name: Leg Raises\n",
      "session_name: Crossfit\n",
      "type_of_activity: Cardio\n",
      "type_of_equipment: Kettlebell\n",
      "body_part: Upper body\n",
      "type: Push\n",
      "muscle_groups_activated:Quads, Glutes, Hamstrings\n",
      "instructions: Hold a med ball at your chest, squat deeply, then use your legs and arms to throw the ball to a target overhead.\n",
      "\n",
      "exercise_name: Lying Leg Raise\n",
      "session_name: Crossfit\n",
      "type_of_activity: Cardio\n",
      "type_of_equipment: Resistance Band\n",
      "body_part: Lower body\n",
      "type: Push\n",
      "muscle_groups_activated:Glutes, Hamstrings\n",
      "instructions: Warm-up adequately before performing this exercise to prevent injury.\n",
      "\n",
      "exercise_name: Single-leg Box Squats\n",
      "session_name: Crossfit\n",
      "type_of_activity: Strength\n",
      "type_of_equipment: Box\n",
      "body_part: Lower body\n",
      "type: Push\n",
      "muscle_groups_activated:Quads, Glutes, Core\n",
      "instructions: Sit back onto a box with one leg extended, then stand back up.\n",
      "\n",
      "exercise_name: Overhead Press\n",
      "session_name: Gymnastics\n",
      "type_of_activity: Cardio\n",
      "type_of_equipment: Medicine Ball\n",
      "body_part: Core\n",
      "type: Pull\n",
      "muscle_groups_activated:Hamstrings, Glutes\n",
      "instructions: Maintain a strong core throughout the exercise for better stability.\n",
      "\n",
      "exercise_name: Alternating Dumbbell Snatch\n",
      "session_name: Gymnastics\n",
      "type_of_activity: Strength\n",
      "type_of_equipment: Resistance Band\n",
      "body_part: Upper body\n",
      "type: Push\n",
      "muscle_groups_activated:Hamstrings, Glutes\n",
      "instructions: Maintain a strong core throughout the exercise for better stability.\n",
      "\n",
      "exercise_name: Sled Pull\n",
      "session_name: Gymnastics\n",
      "type_of_activity: Warm-up\n",
      "type_of_equipment: Medicine Ball\n",
      "body_part: Full body\n",
      "type: Stretch\n",
      "muscle_groups_activated:Hamstrings, Glutes\n",
      "instructions: Maintain a strong core throughout the exercise for better stability.\n",
      "\n",
      "exercise_name: Sandbag Squats\n",
      "session_name: Olympic Weightlifting\n",
      "type_of_activity: Warm-up\n",
      "type_of_equipment: Pull-up Bar\n",
      "body_part: Lower body\n",
      "type: Pull\n",
      "muscle_groups_activated:Glutes, Hamstrings\n",
      "instructions: Maintain a strong core throughout the exercise for better stability.\n"
     ]
    }
   ],
   "source": [
    "print(prompt)"
   ]
  },
  {
   "cell_type": "code",
   "execution_count": 54,
   "id": "d5b582d5-a291-4026-a52a-d245212e9ec3",
   "metadata": {},
   "outputs": [],
   "source": [
    "def llm(prompt, model='gpt-4o-mini'):\n",
    "    response = client.chat.completions.create(\n",
    "        model=model,\n",
    "        messages=[{\"role\": \"user\", \"content\": prompt}]\n",
    "    )\n",
    "    \n",
    "    return response.choices[0].message.content"
   ]
  },
  {
   "cell_type": "code",
   "execution_count": 55,
   "id": "600ae273-64f1-404a-a50c-0ffea5315dcc",
   "metadata": {},
   "outputs": [],
   "source": [
    "def rag(query, model='gpt-4o-mini'):\n",
    "    search_results = search(query)\n",
    "    prompt = build_prompt(query, search_results)\n",
    "    answer = llm(prompt,model=model)\n",
    "    return answer"
   ]
  },
  {
   "cell_type": "code",
   "execution_count": 32,
   "id": "00d42eff-fb2e-4ffd-a3a5-8398ff7cf768",
   "metadata": {},
   "outputs": [],
   "source": [
    "answer = rag(query, )"
   ]
  },
  {
   "cell_type": "code",
   "execution_count": 33,
   "id": "4eb7c656-9a6b-4506-8736-1b26b3cbad75",
   "metadata": {},
   "outputs": [
    {
     "name": "stdout",
     "output_type": "stream",
     "text": [
      "Here are some leg exercises that target the hamstrings:\n",
      "\n",
      "1. **Single-leg Deadlifts**\n",
      "   - **Type of Activity:** Strength\n",
      "   - **Equipment:** Dumbbells\n",
      "   - **Instructions:** Balance on one leg and lower the weights to the ground, returning to standing.\n",
      "   - **Muscle Groups Activated:** Hamstrings, Glutes\n",
      "\n",
      "2. **Single-leg Kettlebell Swing**\n",
      "   - **Type of Activity:** Strength\n",
      "   - **Equipment:** Kettlebell\n",
      "   - **Instructions:** Swing the kettlebell while standing on one leg, focusing on balance and control.\n",
      "   - **Muscle Groups Activated:** Glutes, Hamstrings, Core\n",
      "\n",
      "3. **Single-leg Deadlift**\n",
      "   - **Type of Activity:** Mobility\n",
      "   - **Equipment:** Dumbbells\n",
      "   - **Instructions:** Hold a dumbbell in one hand, hinge at the hips, and lower the weight while balancing on one leg.\n",
      "   - **Muscle Groups Activated:** Hamstrings, Glutes, Lower Back\n",
      "\n",
      "4. **Lying Leg Raise**\n",
      "   - **Type of Activity:** Cardio\n",
      "   - **Equipment:** Resistance Band\n",
      "   - **Instructions:** Warm-up adequately before performing this exercise to prevent injury.\n",
      "   - **Muscle Groups Activated:** Glutes, Hamstrings\n",
      "\n",
      "5. **Sandbag Squats**\n",
      "   - **Type of Activity:** Warm-up\n",
      "   - **Equipment:** Pull-up Bar\n",
      "   - **Instructions:** Maintain a strong core throughout the exercise for better stability.\n",
      "   - **Muscle Groups Activated:** Glutes, Hamstrings\n",
      "\n",
      "These exercises effectively engage the hamstrings and can be incorporated into your workout routine.\n"
     ]
    }
   ],
   "source": [
    "print(answer)"
   ]
  },
  {
   "cell_type": "code",
   "execution_count": 34,
   "id": "3e46cdfa-c119-4d5d-bc55-76d65bf87c52",
   "metadata": {},
   "outputs": [],
   "source": [
    "answer = rag(\"What is the main purpose of performing Glute-Ham Raises in my fitness routine?\")"
   ]
  },
  {
   "cell_type": "code",
   "execution_count": 35,
   "id": "afa5800f-acb2-45e1-bd86-6c2143b5ba1a",
   "metadata": {},
   "outputs": [
    {
     "name": "stdout",
     "output_type": "stream",
     "text": [
      "The main purpose of performing Glute-Ham Raises in your fitness routine is to activate and strengthen the Lower Back and Core muscle groups. This exercise is beneficial for enhancing overall spinal stability and improving core strength, which are essential components of both performance and injury prevention.\n"
     ]
    }
   ],
   "source": [
    "print(answer)"
   ]
  },
  {
   "cell_type": "markdown",
   "id": "23ae6d0b-a659-4bd0-80e4-c264eab4d204",
   "metadata": {},
   "source": [
    "##  Retrieval Evaluation"
   ]
  },
  {
   "cell_type": "code",
   "execution_count": 36,
   "id": "6666bf4d-88ab-4449-b28d-0b2abaa336a6",
   "metadata": {},
   "outputs": [
    {
     "data": {
      "text/plain": [
       "{'Unnamed: 0': 1,\n",
       " 'id': 1,\n",
       " 'exercise_name': 'Glute-Ham Raises',\n",
       " 'session_name': 'Gymnastics',\n",
       " 'type_of_activity': 'Cardio',\n",
       " 'type_of_equipment': 'Medicine Ball',\n",
       " 'body_part': 'Core',\n",
       " 'type': 'Push',\n",
       " 'muscle_groups_activated': 'Lower Back, Core',\n",
       " 'instructions': 'Ensure your breathing is controlled, exhaling during the exertion phase.'}"
      ]
     },
     "execution_count": 36,
     "metadata": {},
     "output_type": "execute_result"
    }
   ],
   "source": [
    "documents[1]"
   ]
  },
  {
   "cell_type": "code",
   "execution_count": 37,
   "id": "fa0743f3-0c08-499b-8969-0bddc5e8f764",
   "metadata": {},
   "outputs": [],
   "source": [
    "df_question =pd.read_csv('../data/ground-truth-retrieval.csv')"
   ]
  },
  {
   "cell_type": "code",
   "execution_count": 38,
   "id": "5c38372b-9d57-4b1f-a78d-327c4f9ab1e2",
   "metadata": {},
   "outputs": [
    {
     "data": {
      "text/html": [
       "<div>\n",
       "<style scoped>\n",
       "    .dataframe tbody tr th:only-of-type {\n",
       "        vertical-align: middle;\n",
       "    }\n",
       "\n",
       "    .dataframe tbody tr th {\n",
       "        vertical-align: top;\n",
       "    }\n",
       "\n",
       "    .dataframe thead th {\n",
       "        text-align: right;\n",
       "    }\n",
       "</style>\n",
       "<table border=\"1\" class=\"dataframe\">\n",
       "  <thead>\n",
       "    <tr style=\"text-align: right;\">\n",
       "      <th></th>\n",
       "      <th>id</th>\n",
       "      <th>question</th>\n",
       "    </tr>\n",
       "  </thead>\n",
       "  <tbody>\n",
       "    <tr>\n",
       "      <th>0</th>\n",
       "      <td>0</td>\n",
       "      <td>What is the primary focus of the Cossack Squat...</td>\n",
       "    </tr>\n",
       "    <tr>\n",
       "      <th>1</th>\n",
       "      <td>0</td>\n",
       "      <td>What type of equipment is needed for performin...</td>\n",
       "    </tr>\n",
       "    <tr>\n",
       "      <th>2</th>\n",
       "      <td>0</td>\n",
       "      <td>What are the main muscle groups activated by t...</td>\n",
       "    </tr>\n",
       "    <tr>\n",
       "      <th>3</th>\n",
       "      <td>0</td>\n",
       "      <td>Is the Cossack Squat considered a warm-up exer...</td>\n",
       "    </tr>\n",
       "    <tr>\n",
       "      <th>4</th>\n",
       "      <td>0</td>\n",
       "      <td>What should I do before starting the Cossack S...</td>\n",
       "    </tr>\n",
       "  </tbody>\n",
       "</table>\n",
       "</div>"
      ],
      "text/plain": [
       "   id                                           question\n",
       "0   0  What is the primary focus of the Cossack Squat...\n",
       "1   0  What type of equipment is needed for performin...\n",
       "2   0  What are the main muscle groups activated by t...\n",
       "3   0  Is the Cossack Squat considered a warm-up exer...\n",
       "4   0  What should I do before starting the Cossack S..."
      ]
     },
     "execution_count": 38,
     "metadata": {},
     "output_type": "execute_result"
    }
   ],
   "source": [
    "df_question.head()"
   ]
  },
  {
   "cell_type": "code",
   "execution_count": 39,
   "id": "0991189e-ff48-457c-b2fc-4f0c93c71f87",
   "metadata": {},
   "outputs": [],
   "source": [
    "ground_truth=df_question.to_dict(orient=\"records\")"
   ]
  },
  {
   "cell_type": "code",
   "execution_count": 40,
   "id": "54d97844-d082-4f35-b0ce-0d482e96cdf0",
   "metadata": {},
   "outputs": [],
   "source": [
    "def hit_rate(relevance_total):\n",
    "    cnt = 0\n",
    "\n",
    "    for line in relevance_total:\n",
    "        if True in line:\n",
    "            cnt = cnt + 1\n",
    "\n",
    "    return cnt / len(relevance_total)\n",
    "\n",
    "\n",
    "def mrr(relevance_total):\n",
    "    total_score = 0.0\n",
    "\n",
    "    for line in relevance_total:\n",
    "        for rank in range(len(line)):\n",
    "            if line[rank] == True:\n",
    "                total_score = total_score + 1 / (rank + 1)\n",
    "\n",
    "    return total_score / len(relevance_total)"
   ]
  },
  {
   "cell_type": "code",
   "execution_count": 41,
   "id": "0da42116-83b6-4a3b-9eb6-a50bc236fe1f",
   "metadata": {},
   "outputs": [],
   "source": [
    "def minsearch_search(query):\n",
    "    boost = {}\n",
    "\n",
    "    results = index.search(\n",
    "        query=query,\n",
    "        filter_dict={},\n",
    "        boost_dict=boost,\n",
    "        num_results=10\n",
    "    )\n",
    "\n",
    "    return results"
   ]
  },
  {
   "cell_type": "code",
   "execution_count": 42,
   "id": "4475e70c-d74a-4a55-a5be-28d3bdb95642",
   "metadata": {},
   "outputs": [],
   "source": [
    "def evaluate(ground_truth, search_function):\n",
    "    relevance_total = []\n",
    "\n",
    "    for q in tqdm(ground_truth):\n",
    "        doc_id = q['id']\n",
    "        results = search_function(q)\n",
    "        relevance = [d['id'] == doc_id for d in results]\n",
    "        relevance_total.append(relevance)\n",
    "\n",
    "    return {\n",
    "        'hit_rate': hit_rate(relevance_total),\n",
    "        'mrr': mrr(relevance_total),\n",
    "    }"
   ]
  },
  {
   "cell_type": "code",
   "execution_count": 43,
   "id": "b835840d-a954-4917-839b-8af94458200b",
   "metadata": {},
   "outputs": [],
   "source": [
    "from tqdm.auto import tqdm"
   ]
  },
  {
   "cell_type": "code",
   "execution_count": 33,
   "id": "d994d499-a4cc-4563-956f-bb89585151f7",
   "metadata": {},
   "outputs": [
    {
     "data": {
      "application/vnd.jupyter.widget-view+json": {
       "model_id": "e9d59d6767f14c1db36586522d0eb77c",
       "version_major": 2,
       "version_minor": 0
      },
      "text/plain": [
       "  0%|          | 0/3600 [00:00<?, ?it/s]"
      ]
     },
     "metadata": {},
     "output_type": "display_data"
    },
    {
     "data": {
      "text/plain": [
       "{'hit_rate': 0.6286111111111111, 'mrr': 0.38161243386243415}"
      ]
     },
     "execution_count": 33,
     "metadata": {},
     "output_type": "execute_result"
    }
   ],
   "source": [
    "evaluate(ground_truth, lambda q: minsearch_search(q['question']))"
   ]
  },
  {
   "cell_type": "markdown",
   "id": "b877da92-b59f-433d-9044-49aee181e9f2",
   "metadata": {},
   "source": [
    "###  Optimise best hyper parameters for tuning"
   ]
  },
  {
   "cell_type": "code",
   "execution_count": 34,
   "id": "06e5fb4e-5180-417e-8aa8-c2f2aded0006",
   "metadata": {},
   "outputs": [],
   "source": [
    "from hyperopt import fmin, tpe, hp, STATUS_OK, Trials\n",
    "from hyperopt.pyll import scope"
   ]
  },
  {
   "cell_type": "code",
   "execution_count": 37,
   "id": "c4cc1d11-7f4e-4867-a1f0-2fa3db0de8e9",
   "metadata": {},
   "outputs": [],
   "source": [
    "df_validation = df_question[:100]\n",
    "df_test = df_question[100:]"
   ]
  },
  {
   "cell_type": "code",
   "execution_count": 38,
   "id": "104292b7-cebf-42e9-bb39-afa0d316f419",
   "metadata": {},
   "outputs": [],
   "source": [
    "import random\n",
    "\n",
    "def simple_optimize(param_ranges, objective_function, n_iterations=10):\n",
    "    best_params = None\n",
    "    best_score = float('-inf')  # Assuming we're minimizing. Use float('-inf') if maximizing.\n",
    "\n",
    "    for _ in range(n_iterations):\n",
    "        # Generate random parameters\n",
    "        current_params = {}\n",
    "        for param, (min_val, max_val) in param_ranges.items():\n",
    "            if isinstance(min_val, int) and isinstance(max_val, int):\n",
    "                current_params[param] = random.randint(min_val, max_val)\n",
    "            else:\n",
    "                current_params[param] = random.uniform(min_val, max_val)\n",
    "        \n",
    "        # Evaluate the objective function\n",
    "        current_score = objective_function(current_params)\n",
    "        \n",
    "        # Update best if current is better\n",
    "        if current_score > best_score:  # Change to > if maximizing\n",
    "            best_score = current_score\n",
    "            best_params = current_params\n",
    "    \n",
    "    return best_params, best_score"
   ]
  },
  {
   "cell_type": "code",
   "execution_count": 39,
   "id": "6832c4d2-1eea-44a6-b4f0-ce4de3fd2346",
   "metadata": {},
   "outputs": [],
   "source": [
    "gt_val = df_validation.to_dict(orient='records')"
   ]
  },
  {
   "cell_type": "code",
   "execution_count": 40,
   "id": "4afbbe3f-4ccf-4a47-91f0-1d3e39f0f4ae",
   "metadata": {},
   "outputs": [],
   "source": [
    "def minsearch_search(query, boost=None):\n",
    "    if boost is None:\n",
    "        boost = {}\n",
    "\n",
    "    results = index.search(\n",
    "        query=query,\n",
    "        filter_dict={},\n",
    "        boost_dict=boost,\n",
    "        num_results=10\n",
    "    )\n",
    "\n",
    "    return results"
   ]
  },
  {
   "cell_type": "code",
   "execution_count": 41,
   "id": "ebe2d660-5f1a-4260-a4ad-06a63366a2e7",
   "metadata": {},
   "outputs": [],
   "source": [
    "param_ranges = {\n",
    "    'exercise_name': (0.0, 3.0),\n",
    "    'type_of_activity': (0.0, 3.0),\n",
    "    'type_of_equipment': (0.0, 3.0),\n",
    "    'body_part': (0.0, 3.0),\n",
    "    'type': (0.0, 3.0),\n",
    "    'muscle_groups_activated': (0.0, 3.0),\n",
    "    'instructions': (0.0, 3.0),\n",
    "}\n",
    "\n",
    "def objective(boost_params):\n",
    "    def search_function(q):\n",
    "        return minsearch_search(q['question'], boost_params)\n",
    "\n",
    "    results = evaluate(gt_val, search_function)\n",
    "    return results['mrr']"
   ]
  },
  {
   "cell_type": "code",
   "execution_count": 42,
   "id": "dd3b90f7-af7b-435b-bd05-fade704cc5d5",
   "metadata": {},
   "outputs": [
    {
     "data": {
      "application/vnd.jupyter.widget-view+json": {
       "model_id": "38590b58f00f467caf910a85c3a36e4d",
       "version_major": 2,
       "version_minor": 0
      },
      "text/plain": [
       "  0%|          | 0/100 [00:00<?, ?it/s]"
      ]
     },
     "metadata": {},
     "output_type": "display_data"
    },
    {
     "data": {
      "application/vnd.jupyter.widget-view+json": {
       "model_id": "15a3e1ce841a4ab8831f3ac3ca3d5419",
       "version_major": 2,
       "version_minor": 0
      },
      "text/plain": [
       "  0%|          | 0/100 [00:00<?, ?it/s]"
      ]
     },
     "metadata": {},
     "output_type": "display_data"
    },
    {
     "data": {
      "application/vnd.jupyter.widget-view+json": {
       "model_id": "3f75d763a65046f3acd786a1ab3e2a73",
       "version_major": 2,
       "version_minor": 0
      },
      "text/plain": [
       "  0%|          | 0/100 [00:00<?, ?it/s]"
      ]
     },
     "metadata": {},
     "output_type": "display_data"
    },
    {
     "data": {
      "application/vnd.jupyter.widget-view+json": {
       "model_id": "b00e4433547f4f449edb7386f66e17a4",
       "version_major": 2,
       "version_minor": 0
      },
      "text/plain": [
       "  0%|          | 0/100 [00:00<?, ?it/s]"
      ]
     },
     "metadata": {},
     "output_type": "display_data"
    },
    {
     "data": {
      "application/vnd.jupyter.widget-view+json": {
       "model_id": "86a19ff3bc9a43dd9af7d2078c153369",
       "version_major": 2,
       "version_minor": 0
      },
      "text/plain": [
       "  0%|          | 0/100 [00:00<?, ?it/s]"
      ]
     },
     "metadata": {},
     "output_type": "display_data"
    },
    {
     "data": {
      "application/vnd.jupyter.widget-view+json": {
       "model_id": "6d5be2d29f42490690b3b9f3eb4a85bd",
       "version_major": 2,
       "version_minor": 0
      },
      "text/plain": [
       "  0%|          | 0/100 [00:00<?, ?it/s]"
      ]
     },
     "metadata": {},
     "output_type": "display_data"
    },
    {
     "data": {
      "application/vnd.jupyter.widget-view+json": {
       "model_id": "b40987e28621455c8a617ec7b802b3be",
       "version_major": 2,
       "version_minor": 0
      },
      "text/plain": [
       "  0%|          | 0/100 [00:00<?, ?it/s]"
      ]
     },
     "metadata": {},
     "output_type": "display_data"
    },
    {
     "data": {
      "application/vnd.jupyter.widget-view+json": {
       "model_id": "ebf8594d8c4546e3b3c5158ee6712da8",
       "version_major": 2,
       "version_minor": 0
      },
      "text/plain": [
       "  0%|          | 0/100 [00:00<?, ?it/s]"
      ]
     },
     "metadata": {},
     "output_type": "display_data"
    },
    {
     "data": {
      "application/vnd.jupyter.widget-view+json": {
       "model_id": "e79d20998ea04454bfe89578c4a0fe7e",
       "version_major": 2,
       "version_minor": 0
      },
      "text/plain": [
       "  0%|          | 0/100 [00:00<?, ?it/s]"
      ]
     },
     "metadata": {},
     "output_type": "display_data"
    },
    {
     "data": {
      "application/vnd.jupyter.widget-view+json": {
       "model_id": "90d63d4984fb4ff6b8c8f8deb3035cbe",
       "version_major": 2,
       "version_minor": 0
      },
      "text/plain": [
       "  0%|          | 0/100 [00:00<?, ?it/s]"
      ]
     },
     "metadata": {},
     "output_type": "display_data"
    },
    {
     "data": {
      "application/vnd.jupyter.widget-view+json": {
       "model_id": "094e90ecbc534827a7eb365a72de0f81",
       "version_major": 2,
       "version_minor": 0
      },
      "text/plain": [
       "  0%|          | 0/100 [00:00<?, ?it/s]"
      ]
     },
     "metadata": {},
     "output_type": "display_data"
    },
    {
     "data": {
      "application/vnd.jupyter.widget-view+json": {
       "model_id": "fd79a49d1daa4576b8576e745ba8a8af",
       "version_major": 2,
       "version_minor": 0
      },
      "text/plain": [
       "  0%|          | 0/100 [00:00<?, ?it/s]"
      ]
     },
     "metadata": {},
     "output_type": "display_data"
    },
    {
     "data": {
      "application/vnd.jupyter.widget-view+json": {
       "model_id": "9a6ce257caea453783406c5da3ec0116",
       "version_major": 2,
       "version_minor": 0
      },
      "text/plain": [
       "  0%|          | 0/100 [00:00<?, ?it/s]"
      ]
     },
     "metadata": {},
     "output_type": "display_data"
    },
    {
     "data": {
      "application/vnd.jupyter.widget-view+json": {
       "model_id": "c67fb71c2c204fa58d308934f6bc8e74",
       "version_major": 2,
       "version_minor": 0
      },
      "text/plain": [
       "  0%|          | 0/100 [00:00<?, ?it/s]"
      ]
     },
     "metadata": {},
     "output_type": "display_data"
    },
    {
     "data": {
      "application/vnd.jupyter.widget-view+json": {
       "model_id": "7daceb5849cc4207aa6d47595a789f53",
       "version_major": 2,
       "version_minor": 0
      },
      "text/plain": [
       "  0%|          | 0/100 [00:00<?, ?it/s]"
      ]
     },
     "metadata": {},
     "output_type": "display_data"
    },
    {
     "data": {
      "application/vnd.jupyter.widget-view+json": {
       "model_id": "4fd488796f0d4a629a6d2c2421dc05ac",
       "version_major": 2,
       "version_minor": 0
      },
      "text/plain": [
       "  0%|          | 0/100 [00:00<?, ?it/s]"
      ]
     },
     "metadata": {},
     "output_type": "display_data"
    },
    {
     "data": {
      "application/vnd.jupyter.widget-view+json": {
       "model_id": "547593bd2b354a619af11dd0beabba67",
       "version_major": 2,
       "version_minor": 0
      },
      "text/plain": [
       "  0%|          | 0/100 [00:00<?, ?it/s]"
      ]
     },
     "metadata": {},
     "output_type": "display_data"
    },
    {
     "data": {
      "application/vnd.jupyter.widget-view+json": {
       "model_id": "17b7ab31d1954a3e80e8e2cef2878ddc",
       "version_major": 2,
       "version_minor": 0
      },
      "text/plain": [
       "  0%|          | 0/100 [00:00<?, ?it/s]"
      ]
     },
     "metadata": {},
     "output_type": "display_data"
    },
    {
     "data": {
      "application/vnd.jupyter.widget-view+json": {
       "model_id": "7fb89aaf38c64324a9bad70a9a5128fd",
       "version_major": 2,
       "version_minor": 0
      },
      "text/plain": [
       "  0%|          | 0/100 [00:00<?, ?it/s]"
      ]
     },
     "metadata": {},
     "output_type": "display_data"
    },
    {
     "data": {
      "application/vnd.jupyter.widget-view+json": {
       "model_id": "30492d5ae1b64c65ae9d088725191cb7",
       "version_major": 2,
       "version_minor": 0
      },
      "text/plain": [
       "  0%|          | 0/100 [00:00<?, ?it/s]"
      ]
     },
     "metadata": {},
     "output_type": "display_data"
    },
    {
     "data": {
      "text/plain": [
       "({'exercise_name': 2.5914509569496147,\n",
       "  'type_of_activity': 1.5152243881090195,\n",
       "  'type_of_equipment': 0.9056125625111049,\n",
       "  'body_part': 2.3549781737720683,\n",
       "  'type': 1.8127406332425322,\n",
       "  'muscle_groups_activated': 2.4627374324066786,\n",
       "  'instructions': 0.04025975201088239},\n",
       " 0.48363095238095277)"
      ]
     },
     "execution_count": 42,
     "metadata": {},
     "output_type": "execute_result"
    }
   ],
   "source": [
    "simple_optimize(param_ranges, objective, n_iterations=20)"
   ]
  },
  {
   "cell_type": "code",
   "execution_count": 43,
   "id": "0428ef9f-8414-4c95-8710-8cc10b6e5f9a",
   "metadata": {},
   "outputs": [
    {
     "data": {
      "application/vnd.jupyter.widget-view+json": {
       "model_id": "da9f3a54a7594888a3f389840f4ae812",
       "version_major": 2,
       "version_minor": 0
      },
      "text/plain": [
       "  0%|          | 0/3600 [00:00<?, ?it/s]"
      ]
     },
     "metadata": {},
     "output_type": "display_data"
    },
    {
     "data": {
      "text/plain": [
       "{'hit_rate': 0.7702777777777777, 'mrr': 0.5145450837742503}"
      ]
     },
     "execution_count": 43,
     "metadata": {},
     "output_type": "execute_result"
    }
   ],
   "source": [
    "def minsearch_improved(query):\n",
    "    boost = {'exercise_name': 2.59,\n",
    "          'type_of_activity': 1.51,\n",
    "          'type_of_equipment': 0.90,\n",
    "          'body_part': 2.35,\n",
    "          'type': 1.81,\n",
    "          'muscle_groups_activated': 2.46,\n",
    "          'instructions': 0.04\n",
    "            }\n",
    "\n",
    "    results = index.search(\n",
    "        query=query,\n",
    "        filter_dict={},\n",
    "        boost_dict=boost,\n",
    "        num_results=10\n",
    "    )\n",
    "\n",
    "    return results\n",
    "\n",
    "evaluate(ground_truth, lambda q: minsearch_improved(q['question']))"
   ]
  },
  {
   "cell_type": "markdown",
   "id": "f10888f5-8749-4196-86b4-0f58f33fd687",
   "metadata": {},
   "source": [
    "### RAG Evaluation\n",
    "either through Cosine Similarity or LLM as a Judge for evaluation.\n",
    "\n",
    "Cosine Similarity needs expected questions/answers to validate against., but in our case we son't have expected results to compare with.\n",
    "so let's stick to LLM as Judge."
   ]
  },
  {
   "cell_type": "code",
   "execution_count": 44,
   "id": "57ae2c5f-c16f-4fc7-bda6-e5b66b8640ee",
   "metadata": {},
   "outputs": [],
   "source": [
    "prompt2_template = \"\"\"\n",
    "You are an expert evaluator for a RAG system.\n",
    "Your task is to analyze the relevance of the generated answer to the given question.\n",
    "Based on the relevance of the generated answer, you will classify it\n",
    "as \"NON_RELEVANT\", \"PARTLY_RELEVANT\", or \"RELEVANT\".\n",
    "\n",
    "Here is the data for evaluation:\n",
    "\n",
    "Question: {question}\n",
    "Generated Answer: {answer_llm}\n",
    "\n",
    "Please analyze the content and context of the generated answer in relation to the question\n",
    "and provide your evaluation in parsable JSON without using code blocks:\n",
    "\n",
    "{{\n",
    "  \"Relevance\": \"NON_RELEVANT\" | \"PARTLY_RELEVANT\" | \"RELEVANT\",\n",
    "  \"Explanation\": \"[Provide a brief explanation for your evaluation]\"\n",
    "}}\n",
    "\"\"\".strip()"
   ]
  },
  {
   "cell_type": "code",
   "execution_count": 45,
   "id": "f2a522f6-b295-4cb0-89d7-bfa9a9e1ff39",
   "metadata": {},
   "outputs": [
    {
     "data": {
      "text/plain": [
       "3600"
      ]
     },
     "execution_count": 45,
     "metadata": {},
     "output_type": "execute_result"
    }
   ],
   "source": [
    "len(ground_truth)"
   ]
  },
  {
   "cell_type": "code",
   "execution_count": 56,
   "id": "d91ec454-81fb-44d2-a7e0-f74d4b78876e",
   "metadata": {},
   "outputs": [],
   "source": [
    "def llm(prompt, model='gpt-4o-mini'):\n",
    "    response = client.chat.completions.create(\n",
    "        model=model,\n",
    "        messages=[{\"role\": \"user\", \"content\": prompt}]\n",
    "    )\n",
    "    \n",
    "    return response.choices[0].message.content"
   ]
  },
  {
   "cell_type": "code",
   "execution_count": 57,
   "id": "0b01be1a-3067-411b-a5d0-0f5301ad5daf",
   "metadata": {},
   "outputs": [],
   "source": [
    "def rag(query, model='gpt-4o-mini'):\n",
    "    search_results = search(query)\n",
    "    prompt = build_prompt(query, search_results)\n",
    "    answer = llm(prompt,model=model)\n",
    "    return answer"
   ]
  },
  {
   "cell_type": "code",
   "execution_count": 58,
   "id": "c72aff1d-9c54-4bd0-a2d6-af417139292a",
   "metadata": {},
   "outputs": [],
   "source": [
    "record = ground_truth[0]\n",
    "question = record['question']\n",
    "answer_llm = rag(question)"
   ]
  },
  {
   "cell_type": "code",
   "execution_count": 47,
   "id": "af2afcb4-0138-4850-8960-002ea90a6cf2",
   "metadata": {},
   "outputs": [
    {
     "name": "stdout",
     "output_type": "stream",
     "text": [
      "The primary focus of the Cossack Squat exercise during the Aerobic Body Building session is to serve as a warm-up that activates the full body, specifically targeting the upper chest and shoulders. It is important to warm-up adequately before performing this exercise to prevent injury.\n"
     ]
    }
   ],
   "source": [
    "print(answer_llm)"
   ]
  },
  {
   "cell_type": "code",
   "execution_count": 48,
   "id": "2746eeab-47bf-4e0f-bff7-249e4e2fe3a5",
   "metadata": {},
   "outputs": [
    {
     "name": "stdout",
     "output_type": "stream",
     "text": [
      "You are an expert evaluator for a RAG system.\n",
      "Your task is to analyze the relevance of the generated answer to the given question.\n",
      "Based on the relevance of the generated answer, you will classify it\n",
      "as \"NON_RELEVANT\", \"PARTLY_RELEVANT\", or \"RELEVANT\".\n",
      "\n",
      "Here is the data for evaluation:\n",
      "\n",
      "Question: What is the primary focus of the Cossack Squat exercise during the Aerobic Body Building session?\n",
      "Generated Answer: The primary focus of the Cossack Squat exercise during the Aerobic Body Building session is to serve as a warm-up that activates the full body, specifically targeting the upper chest and shoulders. It is important to warm-up adequately before performing this exercise to prevent injury.\n",
      "\n",
      "Please analyze the content and context of the generated answer in relation to the question\n",
      "and provide your evaluation in parsable JSON without using code blocks:\n",
      "\n",
      "{\n",
      "  \"Relevance\": \"NON_RELEVANT\" | \"PARTLY_RELEVANT\" | \"RELEVANT\",\n",
      "  \"Explanation\": \"[Provide a brief explanation for your evaluation]\"\n",
      "}\n"
     ]
    }
   ],
   "source": [
    "prompt = prompt2_template.format(question=question, answer_llm=answer_llm)\n",
    "print(prompt)"
   ]
  },
  {
   "cell_type": "code",
   "execution_count": 49,
   "id": "1ef2252c-7581-42b1-974f-a277ba8db3c5",
   "metadata": {},
   "outputs": [
    {
     "data": {
      "text/plain": [
       "'{\\n  \"Relevance\": \"PARTLY_RELEVANT\",\\n  \"Explanation\": \"The generated answer provides some information about the Cossack Squat exercise, mentioning its role as a warm-up that activates the full body. However, it incorrectly emphasizes the upper chest and shoulders, which are not the primary focus of the Cossack Squat. The answer does not fully address the question regarding the main focus of the exercise, which is to target the lower body, particularly the adductors, glutes, and quads.\"\\n}'"
      ]
     },
     "execution_count": 49,
     "metadata": {},
     "output_type": "execute_result"
    }
   ],
   "source": [
    "llm(prompt)"
   ]
  },
  {
   "cell_type": "code",
   "execution_count": 59,
   "id": "9a93cf79-83de-447e-9d48-b148a8aba5be",
   "metadata": {},
   "outputs": [],
   "source": [
    "df_sample = df_question.sample(n=200, random_state=1)"
   ]
  },
  {
   "cell_type": "code",
   "execution_count": 60,
   "id": "7607cd77-85cb-4941-b489-86a8062a315f",
   "metadata": {},
   "outputs": [],
   "source": [
    "sample = df_sample.to_dict(orient='records')"
   ]
  },
  {
   "cell_type": "code",
   "execution_count": 61,
   "id": "ff4c0305-27e2-407d-b3f2-13452e9fd111",
   "metadata": {},
   "outputs": [],
   "source": [
    "import json"
   ]
  },
  {
   "cell_type": "code",
   "execution_count": 62,
   "id": "abacf30f-ed0b-40aa-bdfd-08641e05f27d",
   "metadata": {},
   "outputs": [
    {
     "data": {
      "application/vnd.jupyter.widget-view+json": {
       "model_id": "859aadd289d6498885b869a092976466",
       "version_major": 2,
       "version_minor": 0
      },
      "text/plain": [
       "  0%|          | 0/200 [00:00<?, ?it/s]"
      ]
     },
     "metadata": {},
     "output_type": "display_data"
    }
   ],
   "source": [
    "evaluations = []\n",
    "\n",
    "for record in tqdm(sample):\n",
    "    question = record['question']\n",
    "    answer_llm = rag(question) \n",
    "\n",
    "    prompt = prompt2_template.format(\n",
    "        question=question,\n",
    "        answer_llm=answer_llm\n",
    "    )\n",
    "\n",
    "    evaluation = llm(prompt)\n",
    "    evaluation = json.loads(evaluation)\n",
    "\n",
    "    evaluations.append((record, answer_llm, evaluation))"
   ]
  },
  {
   "cell_type": "code",
   "execution_count": 65,
   "id": "bf7d9e6c-4de4-4048-9233-a9d9514e98d3",
   "metadata": {},
   "outputs": [],
   "source": [
    "df_eval = pd.DataFrame(evaluations, columns=['record', 'answer', 'evaluation'])\n",
    "\n",
    "df_eval['id'] = df_eval.record.apply(lambda d: d['id'])\n",
    "df_eval['question'] = df_eval.record.apply(lambda d: d['question'])\n",
    "\n",
    "df_eval['relevance'] = df_eval.evaluation.apply(lambda d: d['Relevance'])\n",
    "df_eval['explanation'] = df_eval.evaluation.apply(lambda d: d['Explanation'])\n",
    "\n",
    "del df_eval['record']\n",
    "del df_eval['evaluation']"
   ]
  },
  {
   "cell_type": "code",
   "execution_count": 66,
   "id": "bd73ab46-47dc-4225-ba7a-3c6bb5069fd7",
   "metadata": {},
   "outputs": [
    {
     "data": {
      "text/plain": [
       "relevance\n",
       "RELEVANT           0.595\n",
       "PARTLY_RELEVANT    0.325\n",
       "NON_RELEVANT       0.080\n",
       "Name: proportion, dtype: float64"
      ]
     },
     "execution_count": 66,
     "metadata": {},
     "output_type": "execute_result"
    }
   ],
   "source": [
    "df_eval.relevance.value_counts(normalize=True)"
   ]
  },
  {
   "cell_type": "code",
   "execution_count": 67,
   "id": "ad0a2fd8-a7a1-4710-a656-088b8e1409fa",
   "metadata": {},
   "outputs": [],
   "source": [
    "df_eval.to_csv('../data/rag-eval-gpt-4o-mini.csv', index=False)"
   ]
  },
  {
   "cell_type": "code",
   "execution_count": 68,
   "id": "24495bd8-1e37-4ea2-a86b-a0b5d53f4d77",
   "metadata": {},
   "outputs": [
    {
     "data": {
      "text/html": [
       "<div>\n",
       "<style scoped>\n",
       "    .dataframe tbody tr th:only-of-type {\n",
       "        vertical-align: middle;\n",
       "    }\n",
       "\n",
       "    .dataframe tbody tr th {\n",
       "        vertical-align: top;\n",
       "    }\n",
       "\n",
       "    .dataframe thead th {\n",
       "        text-align: right;\n",
       "    }\n",
       "</style>\n",
       "<table border=\"1\" class=\"dataframe\">\n",
       "  <thead>\n",
       "    <tr style=\"text-align: right;\">\n",
       "      <th></th>\n",
       "      <th>answer</th>\n",
       "      <th>id</th>\n",
       "      <th>question</th>\n",
       "      <th>relevance</th>\n",
       "      <th>explanation</th>\n",
       "    </tr>\n",
       "  </thead>\n",
       "  <tbody>\n",
       "    <tr>\n",
       "      <th>0</th>\n",
       "      <td>The primary muscle group targeted during the S...</td>\n",
       "      <td>56</td>\n",
       "      <td>What is the primary muscle group targeted duri...</td>\n",
       "      <td>NON_RELEVANT</td>\n",
       "      <td>The generated answer incorrectly identifies th...</td>\n",
       "    </tr>\n",
       "    <tr>\n",
       "      <th>2</th>\n",
       "      <td>The provided context does not include specific...</td>\n",
       "      <td>437</td>\n",
       "      <td>What is the correct form for performing a Push...</td>\n",
       "      <td>NON_RELEVANT</td>\n",
       "      <td>The generated answer fails to provide any rele...</td>\n",
       "    </tr>\n",
       "    <tr>\n",
       "      <th>14</th>\n",
       "      <td>The context does not provide information about...</td>\n",
       "      <td>343</td>\n",
       "      <td>Which muscle groups are primarily activated du...</td>\n",
       "      <td>NON_RELEVANT</td>\n",
       "      <td>The generated answer indicates a complete lack...</td>\n",
       "    </tr>\n",
       "    <tr>\n",
       "      <th>23</th>\n",
       "      <td>The Box Handstand Push-Up falls under the type...</td>\n",
       "      <td>159</td>\n",
       "      <td>Can you explain the type of activity that the ...</td>\n",
       "      <td>NON_RELEVANT</td>\n",
       "      <td>The generated answer incorrectly categorizes t...</td>\n",
       "    </tr>\n",
       "    <tr>\n",
       "      <th>29</th>\n",
       "      <td>The provided context does not include specific...</td>\n",
       "      <td>526</td>\n",
       "      <td>Can you describe the basic movement involved i...</td>\n",
       "      <td>NON_RELEVANT</td>\n",
       "      <td>The generated answer does not provide any info...</td>\n",
       "    </tr>\n",
       "    <tr>\n",
       "      <th>54</th>\n",
       "      <td>The primary muscles targeted during the Sled P...</td>\n",
       "      <td>202</td>\n",
       "      <td>What are the primary muscles targeted during t...</td>\n",
       "      <td>NON_RELEVANT</td>\n",
       "      <td>The generated answer does not address the ques...</td>\n",
       "    </tr>\n",
       "    <tr>\n",
       "      <th>55</th>\n",
       "      <td>The Tire Drag is not listed in the provided co...</td>\n",
       "      <td>43</td>\n",
       "      <td>Is the Tire Drag considered a strength or card...</td>\n",
       "      <td>NON_RELEVANT</td>\n",
       "      <td>The generated answer states that the Tire Drag...</td>\n",
       "    </tr>\n",
       "    <tr>\n",
       "      <th>64</th>\n",
       "      <td>The name of the exercise focused on the upper ...</td>\n",
       "      <td>42</td>\n",
       "      <td>What is the name of the exercise focused on th...</td>\n",
       "      <td>NON_RELEVANT</td>\n",
       "      <td>The generated answer 'Bodyweight Squat Hold' r...</td>\n",
       "    </tr>\n",
       "    <tr>\n",
       "      <th>73</th>\n",
       "      <td>The equipment used during the Deficit Deadlift...</td>\n",
       "      <td>127</td>\n",
       "      <td>Which equipment is used during the Deficit Dea...</td>\n",
       "      <td>NON_RELEVANT</td>\n",
       "      <td>The generated answer incorrectly states that a...</td>\n",
       "    </tr>\n",
       "    <tr>\n",
       "      <th>92</th>\n",
       "      <td>The Bear Crawl Drags exercise requires a Medic...</td>\n",
       "      <td>92</td>\n",
       "      <td>What type of equipment is required for the Bea...</td>\n",
       "      <td>NON_RELEVANT</td>\n",
       "      <td>The generated answer incorrectly states that a...</td>\n",
       "    </tr>\n",
       "    <tr>\n",
       "      <th>101</th>\n",
       "      <td>The context provided does not include specific...</td>\n",
       "      <td>246</td>\n",
       "      <td>What body parts does the Weighted Pull-Up enga...</td>\n",
       "      <td>NON_RELEVANT</td>\n",
       "      <td>The generated answer does not address the ques...</td>\n",
       "    </tr>\n",
       "    <tr>\n",
       "      <th>113</th>\n",
       "      <td>To perform the Strict T2B exercise effectively...</td>\n",
       "      <td>53</td>\n",
       "      <td>What type of equipment is necessary to perform...</td>\n",
       "      <td>NON_RELEVANT</td>\n",
       "      <td>The Strict T2B (Toes to Bar) exercise primaril...</td>\n",
       "    </tr>\n",
       "    <tr>\n",
       "      <th>128</th>\n",
       "      <td>The starting position for the Power Snatch exe...</td>\n",
       "      <td>448</td>\n",
       "      <td>What is the starting position for the Power Sn...</td>\n",
       "      <td>NON_RELEVANT</td>\n",
       "      <td>The generated answer does not accurately descr...</td>\n",
       "    </tr>\n",
       "    <tr>\n",
       "      <th>157</th>\n",
       "      <td>Yes, a resistance band is needed for performin...</td>\n",
       "      <td>382</td>\n",
       "      <td>Is a resistance band needed for performing Pis...</td>\n",
       "      <td>NON_RELEVANT</td>\n",
       "      <td>The answer asserts that a resistance band is n...</td>\n",
       "    </tr>\n",
       "    <tr>\n",
       "      <th>168</th>\n",
       "      <td>To perform the Rope Climb, follow these specif...</td>\n",
       "      <td>509</td>\n",
       "      <td>Can you explain the specific instructions for ...</td>\n",
       "      <td>NON_RELEVANT</td>\n",
       "      <td>The generated answer does not address the ques...</td>\n",
       "    </tr>\n",
       "    <tr>\n",
       "      <th>176</th>\n",
       "      <td>The context does not provide specific informat...</td>\n",
       "      <td>34</td>\n",
       "      <td>Which muscle groups are primarily targeted dur...</td>\n",
       "      <td>NON_RELEVANT</td>\n",
       "      <td>The generated answer does not address the ques...</td>\n",
       "    </tr>\n",
       "  </tbody>\n",
       "</table>\n",
       "</div>"
      ],
      "text/plain": [
       "                                                answer   id  \\\n",
       "0    The primary muscle group targeted during the S...   56   \n",
       "2    The provided context does not include specific...  437   \n",
       "14   The context does not provide information about...  343   \n",
       "23   The Box Handstand Push-Up falls under the type...  159   \n",
       "29   The provided context does not include specific...  526   \n",
       "54   The primary muscles targeted during the Sled P...  202   \n",
       "55   The Tire Drag is not listed in the provided co...   43   \n",
       "64   The name of the exercise focused on the upper ...   42   \n",
       "73   The equipment used during the Deficit Deadlift...  127   \n",
       "92   The Bear Crawl Drags exercise requires a Medic...   92   \n",
       "101  The context provided does not include specific...  246   \n",
       "113  To perform the Strict T2B exercise effectively...   53   \n",
       "128  The starting position for the Power Snatch exe...  448   \n",
       "157  Yes, a resistance band is needed for performin...  382   \n",
       "168  To perform the Rope Climb, follow these specif...  509   \n",
       "176  The context does not provide specific informat...   34   \n",
       "\n",
       "                                              question     relevance  \\\n",
       "0    What is the primary muscle group targeted duri...  NON_RELEVANT   \n",
       "2    What is the correct form for performing a Push...  NON_RELEVANT   \n",
       "14   Which muscle groups are primarily activated du...  NON_RELEVANT   \n",
       "23   Can you explain the type of activity that the ...  NON_RELEVANT   \n",
       "29   Can you describe the basic movement involved i...  NON_RELEVANT   \n",
       "54   What are the primary muscles targeted during t...  NON_RELEVANT   \n",
       "55   Is the Tire Drag considered a strength or card...  NON_RELEVANT   \n",
       "64   What is the name of the exercise focused on th...  NON_RELEVANT   \n",
       "73   Which equipment is used during the Deficit Dea...  NON_RELEVANT   \n",
       "92   What type of equipment is required for the Bea...  NON_RELEVANT   \n",
       "101  What body parts does the Weighted Pull-Up enga...  NON_RELEVANT   \n",
       "113  What type of equipment is necessary to perform...  NON_RELEVANT   \n",
       "128  What is the starting position for the Power Sn...  NON_RELEVANT   \n",
       "157  Is a resistance band needed for performing Pis...  NON_RELEVANT   \n",
       "168  Can you explain the specific instructions for ...  NON_RELEVANT   \n",
       "176  Which muscle groups are primarily targeted dur...  NON_RELEVANT   \n",
       "\n",
       "                                           explanation  \n",
       "0    The generated answer incorrectly identifies th...  \n",
       "2    The generated answer fails to provide any rele...  \n",
       "14   The generated answer indicates a complete lack...  \n",
       "23   The generated answer incorrectly categorizes t...  \n",
       "29   The generated answer does not provide any info...  \n",
       "54   The generated answer does not address the ques...  \n",
       "55   The generated answer states that the Tire Drag...  \n",
       "64   The generated answer 'Bodyweight Squat Hold' r...  \n",
       "73   The generated answer incorrectly states that a...  \n",
       "92   The generated answer incorrectly states that a...  \n",
       "101  The generated answer does not address the ques...  \n",
       "113  The Strict T2B (Toes to Bar) exercise primaril...  \n",
       "128  The generated answer does not accurately descr...  \n",
       "157  The answer asserts that a resistance band is n...  \n",
       "168  The generated answer does not address the ques...  \n",
       "176  The generated answer does not address the ques...  "
      ]
     },
     "execution_count": 68,
     "metadata": {},
     "output_type": "execute_result"
    }
   ],
   "source": [
    "df_eval[df_eval.relevance == 'NON_RELEVANT']"
   ]
  },
  {
   "cell_type": "code",
   "execution_count": null,
   "id": "375ce581-d026-41ee-8777-27af9755968c",
   "metadata": {},
   "outputs": [
    {
     "data": {
      "application/vnd.jupyter.widget-view+json": {
       "model_id": "a9061ba9935e41a3a4b309406e996013",
       "version_major": 2,
       "version_minor": 0
      },
      "text/plain": [
       "  0%|          | 0/200 [00:00<?, ?it/s]"
      ]
     },
     "metadata": {},
     "output_type": "display_data"
    }
   ],
   "source": [
    "evaluations_gpt4o = []\n",
    "\n",
    "for record in tqdm(sample):\n",
    "    question = record['question']\n",
    "    answer_llm = rag(question, model='gpt-4o') \n",
    "\n",
    "    prompt = prompt2_template.format(\n",
    "        question=question,\n",
    "        answer_llm=answer_llm\n",
    "    )\n",
    "\n",
    "    evaluation = llm(prompt)\n",
    "    evaluation = json.loads(evaluation)\n",
    "    \n",
    "    evaluations_gpt4o.append((record, answer_llm, evaluation))"
   ]
  },
  {
   "cell_type": "code",
   "execution_count": null,
   "id": "eef1a3f5-216d-4530-b750-443f96134cfb",
   "metadata": {},
   "outputs": [],
   "source": [
    "df_eval = pd.DataFrame(evaluations_gpt4o, columns=['record', 'answer', 'evaluation'])\n",
    "\n",
    "df_eval['id'] = df_eval.record.apply(lambda d: d['id'])\n",
    "df_eval['question'] = df_eval.record.apply(lambda d: d['question'])\n",
    "\n",
    "df_eval['relevance'] = df_eval.evaluation.apply(lambda d: d['Relevance'])\n",
    "df_eval['explanation'] = df_eval.evaluation.apply(lambda d: d['Explanation'])\n",
    "\n",
    "del df_eval['record']\n",
    "del df_eval['evaluation']"
   ]
  },
  {
   "cell_type": "code",
   "execution_count": null,
   "id": "e48b144f-1295-4999-9f5b-2bc74e6fadd2",
   "metadata": {},
   "outputs": [],
   "source": [
    "df_eval.relevance.value_counts()"
   ]
  },
  {
   "cell_type": "code",
   "execution_count": null,
   "id": "678e1d3a-9379-4718-b03c-417b63b7bdef",
   "metadata": {},
   "outputs": [],
   "source": [
    "df_eval.relevance.value_counts(normalize=True)"
   ]
  },
  {
   "cell_type": "code",
   "execution_count": null,
   "id": "6fa0defe-e4c3-4de5-aae0-18fcd66df5cd",
   "metadata": {},
   "outputs": [],
   "source": [
    "df_eval.to_csv('../data/rag-eval-gpt-4o.csv', index=False)"
   ]
  },
  {
   "cell_type": "code",
   "execution_count": null,
   "id": "4ffe5638-ee45-418f-9ae6-d8a993ee5c94",
   "metadata": {},
   "outputs": [],
   "source": []
  }
 ],
 "metadata": {
  "kernelspec": {
   "display_name": "Python 3 (ipykernel)",
   "language": "python",
   "name": "python3"
  },
  "language_info": {
   "codemirror_mode": {
    "name": "ipython",
    "version": 3
   },
   "file_extension": ".py",
   "mimetype": "text/x-python",
   "name": "python",
   "nbconvert_exporter": "python",
   "pygments_lexer": "ipython3",
   "version": "3.11.0"
  }
 },
 "nbformat": 4,
 "nbformat_minor": 5
}
